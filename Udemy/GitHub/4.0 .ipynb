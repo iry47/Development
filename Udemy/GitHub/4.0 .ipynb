{
 "cells": [
  {
   "cell_type": "markdown",
   "metadata": {},
   "source": [
    "# Editing Changes through Git\n",
    "\n",
    "After making changes, you have the ability to undo them even if it was something already committed. Undoing a commit can be done via\n",
    "\n",
    "    git revert <commit_id>\n",
    "    \n",
    "There is also the ability to reset the workflow, which can be done in three ways:\n",
    "\n",
    "#### Soft\n",
    "Goes back in the commit tree, so it moves the head back. Essentially you are simply changing your current commit, which is the same as *checkout*\n",
    "\n",
    "#### Mixed\n",
    "This is the default flag for reset. It takes changes back into the working directory and out of stage. Often used to uncommit a file that was accidentally committed. \n",
    "\n",
    "#### Hard\n",
    "Goes back in the working directory and stays there. This means that everything done after the new head will be completely deleted. Usually used for irreversible errors that have been made.\n",
    "\n",
    "    git reset --hard <commit_id>"
   ]
  },
  {
   "cell_type": "code",
   "execution_count": null,
   "metadata": {},
   "outputs": [],
   "source": []
  }
 ],
 "metadata": {
  "kernelspec": {
   "display_name": "Python 3",
   "language": "python",
   "name": "python3"
  },
  "language_info": {
   "codemirror_mode": {
    "name": "ipython",
    "version": 3
   },
   "file_extension": ".py",
   "mimetype": "text/x-python",
   "name": "python",
   "nbconvert_exporter": "python",
   "pygments_lexer": "ipython3",
   "version": "3.7.4"
  }
 },
 "nbformat": 4,
 "nbformat_minor": 2
}
