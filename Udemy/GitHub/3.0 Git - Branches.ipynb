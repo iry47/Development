{
 "cells": [
  {
   "cell_type": "markdown",
   "metadata": {},
   "source": [
    "# Basics\n",
    "\n",
    "A branch is a way to create a separate development path without overriding or creating copies of your project. Branches can be *added*, *deleted* and *merged* just like regular commits.\n",
    "\n",
    "It is important to make an initial commit before creating a branch. If not, then your branch will be your master branch.\n",
    "\n",
    "Bracnhes are created via\n",
    "\n",
    "    git branch newBranch\n",
    "    \n",
    "Create a branch and change to it via\n",
    "\n",
    "    git checkout -b dev\n",
    "    \n",
    "List all branches \n",
    "\n",
    "    git branch -a\n",
    "    \n",
    "Switch to a already exiting branch\n",
    "\n",
    "    git checkout dev\n",
    "    \n",
    "Deleted branch\n",
    "\n",
    "    git branch -d newBranch\n",
    "    "
   ]
  },
  {
   "cell_type": "markdown",
   "metadata": {},
   "source": [
    "# Merging\n",
    "\n",
    "Branches can be merged, which often happens when an idea is completed and ready to be put into the master.\n",
    "\n",
    "When a branch is merged, only the last commit of the source branch is taken.\n",
    "\n",
    "A separate branch is merged into the current branch via\n",
    "\n",
    "    git merge <other_branch>"
   ]
  },
  {
   "cell_type": "code",
   "execution_count": null,
   "metadata": {},
   "outputs": [],
   "source": []
  }
 ],
 "metadata": {
  "kernelspec": {
   "display_name": "Python 3",
   "language": "python",
   "name": "python3"
  },
  "language_info": {
   "codemirror_mode": {
    "name": "ipython",
    "version": 3
   },
   "file_extension": ".py",
   "mimetype": "text/x-python",
   "name": "python",
   "nbconvert_exporter": "python",
   "pygments_lexer": "ipython3",
   "version": "3.7.4"
  }
 },
 "nbformat": 4,
 "nbformat_minor": 2
}
