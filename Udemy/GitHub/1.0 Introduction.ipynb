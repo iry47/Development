{
 "cells": [
  {
   "cell_type": "markdown",
   "metadata": {},
   "source": [
    "# What is Git"
   ]
  },
  {
   "cell_type": "markdown",
   "metadata": {},
   "source": [
    "**Source Control** is a way of tracking your files progress over time through a series of snapshots and branches through which you can browse back and forth through the timeline of your project.\n",
    "\n",
    "**Git** is simply a source control software that was created by the creator of linux.\n",
    "\n",
    "**GitHub** is an application that allows you to save your repository remotely on their servers."
   ]
  },
  {
   "cell_type": "markdown",
   "metadata": {},
   "source": [
    "# Installing Git"
   ]
  },
  {
   "cell_type": "markdown",
   "metadata": {},
   "source": [
    "### 1. Download Git\n",
    "Google 'Git' and download the software from the official git page. Follow through the prompts and choose the settings you desire.\n",
    "\n",
    "### 2. Test download\n",
    "Open your terminal and test the instalation with the following command:\n",
    "\n",
    "    `git --version`\n",
    "\n",
    "A correct instaltion will show the version of your git.\n",
    "\n",
    "\n",
    "*If on windows, you must download the proper applications to run linux - for example: Ubuntu*"
   ]
  },
  {
   "cell_type": "code",
   "execution_count": null,
   "metadata": {},
   "outputs": [],
   "source": []
  }
 ],
 "metadata": {
  "kernelspec": {
   "display_name": "Python 3",
   "language": "python",
   "name": "python3"
  },
  "language_info": {
   "codemirror_mode": {
    "name": "ipython",
    "version": 3
   },
   "file_extension": ".py",
   "mimetype": "text/x-python",
   "name": "python",
   "nbconvert_exporter": "python",
   "pygments_lexer": "ipython3",
   "version": "3.7.4"
  }
 },
 "nbformat": 4,
 "nbformat_minor": 2
}
