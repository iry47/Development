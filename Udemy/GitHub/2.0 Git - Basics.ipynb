{
 "cells": [
  {
   "cell_type": "markdown",
   "metadata": {},
   "source": [
    "# Git Workflow\n",
    "\n",
    "There are three main phases of the Git workflow :\n",
    "1. Working Directory\n",
    "2. Staging Area \n",
    "3. Repository\n",
    "\n",
    "### Working Directory\n",
    "\n",
    "The directory on your computer that stores your project, which also reflects its current definition. This contains all files and directories stored in the root of your project.\n",
    "\n",
    "### Staging Area\n",
    "\n",
    "The bundle of all the modifications to the project that are going to be commited. Files are added to staging via \n",
    "\n",
    "    git add <file>\n",
    "    \n",
    "All files in a directory can be added via\n",
    "    \n",
    "    git add <directory>\n",
    "    \n",
    "\n",
    "### Repository\n",
    "\n",
    "The area representing the commited changes for the project. Repositories come in two forms:\n",
    "\n",
    "- Local\n",
    "- Remote\n",
    "\n",
    "The server which contains the working directory will always have a local repository. GitHub is an example of a remote repository. Before **pushing** to a remote repository\n",
    "\n",
    "    git push <file>\n",
    "\n",
    "all changes that happened on the remote repository must be **pulled** to your local copy\n",
    "\n",
    "    git pull \n",
    "\n",
    "This process is what allows multiple people to work on one application and share the version control between them.\n",
    "\n"
   ]
  },
  {
   "cell_type": "markdown",
   "metadata": {},
   "source": [
    "# Creating Your First Repository\n",
    "\n",
    "Create a new directory for your project, in your place of choosing (For websites, I use my `~/Sites` folder\n",
    "\n",
    "Enter the directory and run the first git command. This command is always how you create a repository and it **cannot** be undone\n",
    "\n",
    "    git init\n",
    "    \n",
    "Now you can run all the git commands"
   ]
  },
  {
   "cell_type": "markdown",
   "metadata": {},
   "source": [
    "## .gitignore\n",
    "\n",
    "In most projects, there are several files that you do not want to track. These files are excluded through the file *.gitignore*\n",
    "\n",
    "    touch .gitignore\n",
    "    \n",
    "The bash command to create the file. An example file excluding files and adding a comment is :\n",
    "    \n",
    "    #example header\n",
    "    file.txt\n",
    "    image.jpg\n",
    "    "
   ]
  },
  {
   "cell_type": "markdown",
   "metadata": {},
   "source": [
    "# Beginner Commands\n",
    "\n",
    "View status of git repository\n",
    "\n",
    "    git status\n",
    "    \n",
    "Add configurations *these are just two examples*\n",
    "\n",
    "    git config --global user.email 'myemail@example.com'\n",
    "    git config --global user.name 'Hugo'\n",
    "    \n",
    "Remove file from stage\n",
    "\n",
    "    git rm --cached <file>\n",
    "    \n",
    "Delete file completely while checking for compatibility \n",
    "\n",
    "    git rm <file>\n",
    "    \n",
    "Force delete a file\n",
    "\n",
    "    git rm -f <file>\n",
    "    \n",
    "Commit files in staging\n",
    "\n",
    "    git commit\n",
    "    \n",
    "Commit files with message\n",
    "\n",
    "    git commmit -m 'this is my message'\n",
    "    \n",
    "Commit only tracked files\n",
    "\n",
    "    git commit -a -m 'this message is not required'\n",
    "    \n",
    "View all commits\n",
    "\n",
    "    git log\n",
    "    \n",
    "Move back in time to a previous commit *use git log to get commit_id (a long number of random characters)*\n",
    "\n",
    "    git checkout <commit_id>\n",
    "\n"
   ]
  },
  {
   "cell_type": "code",
   "execution_count": null,
   "metadata": {},
   "outputs": [],
   "source": [
    "\n"
   ]
  }
 ],
 "metadata": {
  "kernelspec": {
   "display_name": "Python 3",
   "language": "python",
   "name": "python3"
  },
  "language_info": {
   "codemirror_mode": {
    "name": "ipython",
    "version": 3
   },
   "file_extension": ".py",
   "mimetype": "text/x-python",
   "name": "python",
   "nbconvert_exporter": "python",
   "pygments_lexer": "ipython3",
   "version": "3.7.4"
  }
 },
 "nbformat": 4,
 "nbformat_minor": 2
}
