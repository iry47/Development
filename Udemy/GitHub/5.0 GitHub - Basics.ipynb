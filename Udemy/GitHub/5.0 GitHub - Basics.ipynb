{
 "cells": [
  {
   "cell_type": "markdown",
   "metadata": {},
   "source": [
    "# What is GitHub\n",
    "\n",
    "GitHub is an **application** that allows you to store your repository on their servers. This is the most popular form to create a remote repository.\n",
    "\n",
    "This application is so extremely popular because of it's intuitive user interface that allows you to work with git in a visual way.\n",
    "\n",
    "### Key Features\n",
    "- Create a profile\n",
    "    - organize your repositories\n",
    "    - create a portfolio\n",
    "- Browse the world of repositories\n",
    "    - fork, clone or download entire projects\n",
    "    - suggest edits\n",
    "- Socially code in groups on projects\n",
    "    - view live commits and changes to projects\n",
    "    - **pull** commits/branches from other developpers into your local project\n",
    "    \n",
    "**Forking** a repository creates a personal copy of the project in your GitHub. This way you can use *Pull Requests* to help improve people's projects; this is at the core of social coding at GitHub.\n",
    "\n",
    "**Cloning** a respository takes a link of the project and makes a copy on your local machine. Not at all saved in your GitHub by default, but can be pushed there later at your convenience.\n",
    "\n",
    "**Downloading** a repository simply packs up the project in a zip and puts it in the downloads folder on your local machine. The download however does not pack the git files, so this process is quite limiting when trying to work in groups or view the history of the project."
   ]
  },
  {
   "cell_type": "markdown",
   "metadata": {},
   "source": [
    "# Create Repositories\n",
    "\n",
    "Log into GitHub and create a new repository\n",
    "\n",
    "On your local machine, create a new directory for your project and initialize a new git\n",
    "\n",
    "    git init\n",
    "    \n",
    "In your new GitHub repository, in the top right corner click clone and copy the HTTPS link provided -- another way to do this is with SSH --\n",
    "\n",
    "Return to your new directory on your local machine and make the connection to GitHub\n",
    "\n",
    "    git remote add origin <https link from github>\n",
    "    \n",
    "Test the connection via\n",
    "\n",
    "    git remote -v\n",
    "    \n",
    "Often you will see the two repositories for *fetch* and *pull* commands\n",
    "\n",
    "### README\n",
    "\n",
    "Standard practice is to have a readme file in your repository that provides a description of the intention of the repository, and maybe instructions on how to use the application. \n",
    "A `README.md` will automatically create a widget on the landing page of the repository and show the contents (text) of the file."
   ]
  },
  {
   "cell_type": "code",
   "execution_count": null,
   "metadata": {},
   "outputs": [],
   "source": []
  }
 ],
 "metadata": {
  "kernelspec": {
   "display_name": "Python 3",
   "language": "python",
   "name": "python3"
  },
  "language_info": {
   "codemirror_mode": {
    "name": "ipython",
    "version": 3
   },
   "file_extension": ".py",
   "mimetype": "text/x-python",
   "name": "python",
   "nbconvert_exporter": "python",
   "pygments_lexer": "ipython3",
   "version": "3.7.4"
  }
 },
 "nbformat": 4,
 "nbformat_minor": 2
}
