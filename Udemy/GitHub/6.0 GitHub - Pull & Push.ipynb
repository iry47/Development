{
 "cells": [
  {
   "cell_type": "markdown",
   "metadata": {},
   "source": [
    "# PULL\n",
    "\n",
    "To pull the commits from a repository or branch, you have two options:\n",
    "\n",
    "Pull everything from the repository that is connected\n",
    "\n",
    "    git pull\n",
    "    \n",
    "Pull from a specific branch\n",
    "\n",
    "    git pull <remote> <branch>\n",
    "    \n",
    "# PUSH\n",
    "\n",
    "Push your commits to the repository via\n",
    "\n",
    "    git push -u <remote> <branch>\n",
    "    \n",
    "Depending on your security settings, you may need to input your login informaiton."
   ]
  }
 ],
 "metadata": {
  "kernelspec": {
   "display_name": "Python 3",
   "language": "python",
   "name": "python3"
  },
  "language_info": {
   "codemirror_mode": {
    "name": "ipython",
    "version": 3
   },
   "file_extension": ".py",
   "mimetype": "text/x-python",
   "name": "python",
   "nbconvert_exporter": "python",
   "pygments_lexer": "ipython3",
   "version": "3.7.4"
  }
 },
 "nbformat": 4,
 "nbformat_minor": 2
}
