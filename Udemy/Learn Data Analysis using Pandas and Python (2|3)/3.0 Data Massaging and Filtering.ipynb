{
 "cells": [
  {
   "cell_type": "code",
   "execution_count": 3,
   "metadata": {},
   "outputs": [
    {
     "data": {
      "text/html": [
       "<div>\n",
       "<style scoped>\n",
       "    .dataframe tbody tr th:only-of-type {\n",
       "        vertical-align: middle;\n",
       "    }\n",
       "\n",
       "    .dataframe tbody tr th {\n",
       "        vertical-align: top;\n",
       "    }\n",
       "\n",
       "    .dataframe thead th {\n",
       "        text-align: right;\n",
       "    }\n",
       "</style>\n",
       "<table border=\"1\" class=\"dataframe\">\n",
       "  <thead>\n",
       "    <tr style=\"text-align: right;\">\n",
       "      <th></th>\n",
       "      <th>Name</th>\n",
       "      <th>Position</th>\n",
       "      <th>Office</th>\n",
       "      <th>Age</th>\n",
       "      <th>Start date</th>\n",
       "      <th>Salary</th>\n",
       "    </tr>\n",
       "  </thead>\n",
       "  <tbody>\n",
       "    <tr>\n",
       "      <td>0</td>\n",
       "      <td>Airi Satou</td>\n",
       "      <td>Accountant</td>\n",
       "      <td>Tokyo</td>\n",
       "      <td>33</td>\n",
       "      <td>2008/11/28</td>\n",
       "      <td>$162,700</td>\n",
       "    </tr>\n",
       "    <tr>\n",
       "      <td>1</td>\n",
       "      <td>Angelica Ramos</td>\n",
       "      <td>Chief Executive Officer (CEO)</td>\n",
       "      <td>London</td>\n",
       "      <td>47</td>\n",
       "      <td>2009/10/09</td>\n",
       "      <td>$1,200,000</td>\n",
       "    </tr>\n",
       "    <tr>\n",
       "      <td>2</td>\n",
       "      <td>Ashton Cox</td>\n",
       "      <td>Junior Technical Author</td>\n",
       "      <td>San Francisco</td>\n",
       "      <td>66</td>\n",
       "      <td>2009/01/12</td>\n",
       "      <td>$86,000</td>\n",
       "    </tr>\n",
       "    <tr>\n",
       "      <td>3</td>\n",
       "      <td>Bradley Greer</td>\n",
       "      <td>Software Engineer</td>\n",
       "      <td>London</td>\n",
       "      <td>41</td>\n",
       "      <td>2012/10/13</td>\n",
       "      <td>$132,000</td>\n",
       "    </tr>\n",
       "    <tr>\n",
       "      <td>4</td>\n",
       "      <td>Brenden Wagner</td>\n",
       "      <td>Software Engineer</td>\n",
       "      <td>San Francisco</td>\n",
       "      <td>28</td>\n",
       "      <td>2011/06/07</td>\n",
       "      <td>$206,850</td>\n",
       "    </tr>\n",
       "  </tbody>\n",
       "</table>\n",
       "</div>"
      ],
      "text/plain": [
       "             Name                       Position         Office  Age  \\\n",
       "0      Airi Satou                     Accountant          Tokyo   33   \n",
       "1  Angelica Ramos  Chief Executive Officer (CEO)         London   47   \n",
       "2      Ashton Cox        Junior Technical Author  San Francisco   66   \n",
       "3   Bradley Greer              Software Engineer         London   41   \n",
       "4  Brenden Wagner              Software Engineer  San Francisco   28   \n",
       "\n",
       "   Start date      Salary  \n",
       "0  2008/11/28    $162,700  \n",
       "1  2009/10/09  $1,200,000  \n",
       "2  2009/01/12     $86,000  \n",
       "3  2012/10/13    $132,000  \n",
       "4  2011/06/07    $206,850  "
      ]
     },
     "execution_count": 3,
     "metadata": {},
     "output_type": "execute_result"
    }
   ],
   "source": [
    "import pandas as pd\n",
    "employee = pd.read_table('/Users/ryanheadley/Documents/GitHub/Development/Udemy/Learn Data Analysis using Pandas and Python (2|3)/ressources/DataTables example - Tab separated values.tsv')\n",
    "employee.head()"
   ]
  },
  {
   "cell_type": "code",
   "execution_count": 25,
   "metadata": {},
   "outputs": [
    {
     "data": {
      "text/html": [
       "<div>\n",
       "<style scoped>\n",
       "    .dataframe tbody tr th:only-of-type {\n",
       "        vertical-align: middle;\n",
       "    }\n",
       "\n",
       "    .dataframe tbody tr th {\n",
       "        vertical-align: top;\n",
       "    }\n",
       "\n",
       "    .dataframe thead th {\n",
       "        text-align: right;\n",
       "    }\n",
       "</style>\n",
       "<table border=\"1\" class=\"dataframe\">\n",
       "  <thead>\n",
       "    <tr style=\"text-align: right;\">\n",
       "      <th></th>\n",
       "      <th>Name</th>\n",
       "      <th>Position</th>\n",
       "      <th>Office</th>\n",
       "      <th>Age</th>\n",
       "      <th>Start date</th>\n",
       "      <th>Salary</th>\n",
       "      <th>Name Salary</th>\n",
       "    </tr>\n",
       "  </thead>\n",
       "  <tbody>\n",
       "    <tr>\n",
       "      <td>0</td>\n",
       "      <td>Airi Satou</td>\n",
       "      <td>Accountant</td>\n",
       "      <td>Tokyo</td>\n",
       "      <td>33</td>\n",
       "      <td>2008/11/28</td>\n",
       "      <td>$162,700</td>\n",
       "      <td>Airi Satou$162,700</td>\n",
       "    </tr>\n",
       "    <tr>\n",
       "      <td>1</td>\n",
       "      <td>Angelica Ramos</td>\n",
       "      <td>Chief Executive Officer (CEO)</td>\n",
       "      <td>London</td>\n",
       "      <td>47</td>\n",
       "      <td>2009/10/09</td>\n",
       "      <td>$1,200,000</td>\n",
       "      <td>Angelica Ramos$1,200,000</td>\n",
       "    </tr>\n",
       "    <tr>\n",
       "      <td>2</td>\n",
       "      <td>Ashton Cox</td>\n",
       "      <td>Junior Technical Author</td>\n",
       "      <td>San Francisco</td>\n",
       "      <td>66</td>\n",
       "      <td>2009/01/12</td>\n",
       "      <td>$86,000</td>\n",
       "      <td>Ashton Cox$86,000</td>\n",
       "    </tr>\n",
       "    <tr>\n",
       "      <td>3</td>\n",
       "      <td>Bradley Greer</td>\n",
       "      <td>Software Engineer</td>\n",
       "      <td>London</td>\n",
       "      <td>41</td>\n",
       "      <td>2012/10/13</td>\n",
       "      <td>$132,000</td>\n",
       "      <td>Bradley Greer$132,000</td>\n",
       "    </tr>\n",
       "    <tr>\n",
       "      <td>4</td>\n",
       "      <td>Brenden Wagner</td>\n",
       "      <td>Software Engineer</td>\n",
       "      <td>San Francisco</td>\n",
       "      <td>28</td>\n",
       "      <td>2011/06/07</td>\n",
       "      <td>$206,850</td>\n",
       "      <td>Brenden Wagner$206,850</td>\n",
       "    </tr>\n",
       "  </tbody>\n",
       "</table>\n",
       "</div>"
      ],
      "text/plain": [
       "             Name                       Position         Office  Age  \\\n",
       "0      Airi Satou                     Accountant          Tokyo   33   \n",
       "1  Angelica Ramos  Chief Executive Officer (CEO)         London   47   \n",
       "2      Ashton Cox        Junior Technical Author  San Francisco   66   \n",
       "3   Bradley Greer              Software Engineer         London   41   \n",
       "4  Brenden Wagner              Software Engineer  San Francisco   28   \n",
       "\n",
       "   Start date      Salary               Name Salary  \n",
       "0  2008/11/28    $162,700        Airi Satou$162,700  \n",
       "1  2009/10/09  $1,200,000  Angelica Ramos$1,200,000  \n",
       "2  2009/01/12     $86,000         Ashton Cox$86,000  \n",
       "3  2012/10/13    $132,000     Bradley Greer$132,000  \n",
       "4  2011/06/07    $206,850    Brenden Wagner$206,850  "
      ]
     },
     "execution_count": 25,
     "metadata": {},
     "output_type": "execute_result"
    }
   ],
   "source": [
    "#concatenating 2 columns\n",
    "employee['Name Salary'] = employee['Name'] + employee['Salary']\n",
    "employee.head()"
   ]
  },
  {
   "cell_type": "code",
   "execution_count": 26,
   "metadata": {},
   "outputs": [
    {
     "data": {
      "text/html": [
       "<div>\n",
       "<style scoped>\n",
       "    .dataframe tbody tr th:only-of-type {\n",
       "        vertical-align: middle;\n",
       "    }\n",
       "\n",
       "    .dataframe tbody tr th {\n",
       "        vertical-align: top;\n",
       "    }\n",
       "\n",
       "    .dataframe thead th {\n",
       "        text-align: right;\n",
       "    }\n",
       "</style>\n",
       "<table border=\"1\" class=\"dataframe\">\n",
       "  <thead>\n",
       "    <tr style=\"text-align: right;\">\n",
       "      <th></th>\n",
       "      <th>Name</th>\n",
       "      <th>Position</th>\n",
       "      <th>Age</th>\n",
       "      <th>Start date</th>\n",
       "      <th>Salary</th>\n",
       "      <th>Name Salary</th>\n",
       "    </tr>\n",
       "  </thead>\n",
       "  <tbody>\n",
       "    <tr>\n",
       "      <td>0</td>\n",
       "      <td>Airi Satou</td>\n",
       "      <td>Accountant</td>\n",
       "      <td>33</td>\n",
       "      <td>2008/11/28</td>\n",
       "      <td>$162,700</td>\n",
       "      <td>Airi Satou$162,700</td>\n",
       "    </tr>\n",
       "    <tr>\n",
       "      <td>1</td>\n",
       "      <td>Angelica Ramos</td>\n",
       "      <td>Chief Executive Officer (CEO)</td>\n",
       "      <td>47</td>\n",
       "      <td>2009/10/09</td>\n",
       "      <td>$1,200,000</td>\n",
       "      <td>Angelica Ramos$1,200,000</td>\n",
       "    </tr>\n",
       "    <tr>\n",
       "      <td>2</td>\n",
       "      <td>Ashton Cox</td>\n",
       "      <td>Junior Technical Author</td>\n",
       "      <td>66</td>\n",
       "      <td>2009/01/12</td>\n",
       "      <td>$86,000</td>\n",
       "      <td>Ashton Cox$86,000</td>\n",
       "    </tr>\n",
       "    <tr>\n",
       "      <td>3</td>\n",
       "      <td>Bradley Greer</td>\n",
       "      <td>Software Engineer</td>\n",
       "      <td>41</td>\n",
       "      <td>2012/10/13</td>\n",
       "      <td>$132,000</td>\n",
       "      <td>Bradley Greer$132,000</td>\n",
       "    </tr>\n",
       "    <tr>\n",
       "      <td>4</td>\n",
       "      <td>Brenden Wagner</td>\n",
       "      <td>Software Engineer</td>\n",
       "      <td>28</td>\n",
       "      <td>2011/06/07</td>\n",
       "      <td>$206,850</td>\n",
       "      <td>Brenden Wagner$206,850</td>\n",
       "    </tr>\n",
       "  </tbody>\n",
       "</table>\n",
       "</div>"
      ],
      "text/plain": [
       "             Name                       Position  Age  Start date      Salary  \\\n",
       "0      Airi Satou                     Accountant   33  2008/11/28    $162,700   \n",
       "1  Angelica Ramos  Chief Executive Officer (CEO)   47  2009/10/09  $1,200,000   \n",
       "2      Ashton Cox        Junior Technical Author   66  2009/01/12     $86,000   \n",
       "3   Bradley Greer              Software Engineer   41  2012/10/13    $132,000   \n",
       "4  Brenden Wagner              Software Engineer   28  2011/06/07    $206,850   \n",
       "\n",
       "                Name Salary  \n",
       "0        Airi Satou$162,700  \n",
       "1  Angelica Ramos$1,200,000  \n",
       "2         Ashton Cox$86,000  \n",
       "3     Bradley Greer$132,000  \n",
       "4    Brenden Wagner$206,850  "
      ]
     },
     "execution_count": 26,
     "metadata": {},
     "output_type": "execute_result"
    }
   ],
   "source": [
    "#delete column\n",
    "employee.drop('Office', axis=1, inplace=True)\n",
    "employee.head()"
   ]
  },
  {
   "cell_type": "code",
   "execution_count": 7,
   "metadata": {},
   "outputs": [
    {
     "data": {
      "text/html": [
       "<div>\n",
       "<style scoped>\n",
       "    .dataframe tbody tr th:only-of-type {\n",
       "        vertical-align: middle;\n",
       "    }\n",
       "\n",
       "    .dataframe tbody tr th {\n",
       "        vertical-align: top;\n",
       "    }\n",
       "\n",
       "    .dataframe thead th {\n",
       "        text-align: right;\n",
       "    }\n",
       "</style>\n",
       "<table border=\"1\" class=\"dataframe\">\n",
       "  <thead>\n",
       "    <tr style=\"text-align: right;\">\n",
       "      <th></th>\n",
       "      <th>Name</th>\n",
       "      <th>Position</th>\n",
       "      <th>Office</th>\n",
       "      <th>Age</th>\n",
       "      <th>Start date</th>\n",
       "      <th>Salary</th>\n",
       "    </tr>\n",
       "  </thead>\n",
       "  <tbody>\n",
       "    <tr>\n",
       "      <td>48</td>\n",
       "      <td>Tatyana Fitzpatrick</td>\n",
       "      <td>Regional Director</td>\n",
       "      <td>London</td>\n",
       "      <td>19</td>\n",
       "      <td>2010/03/17</td>\n",
       "      <td>$385,750</td>\n",
       "    </tr>\n",
       "    <tr>\n",
       "      <td>45</td>\n",
       "      <td>Shou Itou</td>\n",
       "      <td>Regional Marketing</td>\n",
       "      <td>Tokyo</td>\n",
       "      <td>20</td>\n",
       "      <td>2011/08/14</td>\n",
       "      <td>$163,000</td>\n",
       "    </tr>\n",
       "    <tr>\n",
       "      <td>7</td>\n",
       "      <td>Caesar Vance</td>\n",
       "      <td>Pre-Sales Support</td>\n",
       "      <td>New York</td>\n",
       "      <td>21</td>\n",
       "      <td>2011/12/12</td>\n",
       "      <td>$106,450</td>\n",
       "    </tr>\n",
       "    <tr>\n",
       "      <td>32</td>\n",
       "      <td>Lael Greer</td>\n",
       "      <td>Systems Administrator</td>\n",
       "      <td>London</td>\n",
       "      <td>21</td>\n",
       "      <td>2009/02/27</td>\n",
       "      <td>$103,500</td>\n",
       "    </tr>\n",
       "    <tr>\n",
       "      <td>18</td>\n",
       "      <td>Gavin Cortez</td>\n",
       "      <td>Team Leader</td>\n",
       "      <td>San Francisco</td>\n",
       "      <td>22</td>\n",
       "      <td>2008/10/26</td>\n",
       "      <td>$235,500</td>\n",
       "    </tr>\n",
       "  </tbody>\n",
       "</table>\n",
       "</div>"
      ],
      "text/plain": [
       "                   Name               Position         Office  Age  \\\n",
       "48  Tatyana Fitzpatrick      Regional Director         London   19   \n",
       "45            Shou Itou     Regional Marketing          Tokyo   20   \n",
       "7          Caesar Vance      Pre-Sales Support       New York   21   \n",
       "32           Lael Greer  Systems Administrator         London   21   \n",
       "18         Gavin Cortez            Team Leader  San Francisco   22   \n",
       "\n",
       "    Start date    Salary  \n",
       "48  2010/03/17  $385,750  \n",
       "45  2011/08/14  $163,000  \n",
       "7   2011/12/12  $106,450  \n",
       "32  2009/02/27  $103,500  \n",
       "18  2008/10/26  $235,500  "
      ]
     },
     "execution_count": 7,
     "metadata": {},
     "output_type": "execute_result"
    }
   ],
   "source": [
    "#sort table by age\n",
    "employee.sort_values(by='Age', ascending=True).head()"
   ]
  },
  {
   "cell_type": "code",
   "execution_count": 8,
   "metadata": {},
   "outputs": [
    {
     "data": {
      "text/plain": [
       "0        Airi Satou\n",
       "1    Angelica Ramos\n",
       "2        Ashton Cox\n",
       "3     Bradley Greer\n",
       "4    Brenden Wagner\n",
       "Name: Name, dtype: object"
      ]
     },
     "execution_count": 8,
     "metadata": {},
     "output_type": "execute_result"
    }
   ],
   "source": [
    "#sorting a series\n",
    "employee['Name'].sort_values().head()"
   ]
  },
  {
   "cell_type": "code",
   "execution_count": 10,
   "metadata": {},
   "outputs": [
    {
     "data": {
      "text/html": [
       "<div>\n",
       "<style scoped>\n",
       "    .dataframe tbody tr th:only-of-type {\n",
       "        vertical-align: middle;\n",
       "    }\n",
       "\n",
       "    .dataframe tbody tr th {\n",
       "        vertical-align: top;\n",
       "    }\n",
       "\n",
       "    .dataframe thead th {\n",
       "        text-align: right;\n",
       "    }\n",
       "</style>\n",
       "<table border=\"1\" class=\"dataframe\">\n",
       "  <thead>\n",
       "    <tr style=\"text-align: right;\">\n",
       "      <th></th>\n",
       "      <th>Name</th>\n",
       "      <th>Position</th>\n",
       "      <th>Office</th>\n",
       "      <th>Age</th>\n",
       "      <th>Start date</th>\n",
       "      <th>Salary</th>\n",
       "    </tr>\n",
       "  </thead>\n",
       "  <tbody>\n",
       "    <tr>\n",
       "      <td>0</td>\n",
       "      <td>Airi Satou</td>\n",
       "      <td>Accountant</td>\n",
       "      <td>Tokyo</td>\n",
       "      <td>33</td>\n",
       "      <td>2008/11/28</td>\n",
       "      <td>$162,700</td>\n",
       "    </tr>\n",
       "    <tr>\n",
       "      <td>4</td>\n",
       "      <td>Brenden Wagner</td>\n",
       "      <td>Software Engineer</td>\n",
       "      <td>San Francisco</td>\n",
       "      <td>28</td>\n",
       "      <td>2011/06/07</td>\n",
       "      <td>$206,850</td>\n",
       "    </tr>\n",
       "    <tr>\n",
       "      <td>6</td>\n",
       "      <td>Bruno Nash</td>\n",
       "      <td>Software Engineer</td>\n",
       "      <td>London</td>\n",
       "      <td>38</td>\n",
       "      <td>2011/05/03</td>\n",
       "      <td>$163,500</td>\n",
       "    </tr>\n",
       "    <tr>\n",
       "      <td>7</td>\n",
       "      <td>Caesar Vance</td>\n",
       "      <td>Pre-Sales Support</td>\n",
       "      <td>New York</td>\n",
       "      <td>21</td>\n",
       "      <td>2011/12/12</td>\n",
       "      <td>$106,450</td>\n",
       "    </tr>\n",
       "    <tr>\n",
       "      <td>9</td>\n",
       "      <td>Cedric Kelly</td>\n",
       "      <td>Senior Javascript Developer</td>\n",
       "      <td>Edinburgh</td>\n",
       "      <td>22</td>\n",
       "      <td>2012/03/29</td>\n",
       "      <td>$433,060</td>\n",
       "    </tr>\n",
       "  </tbody>\n",
       "</table>\n",
       "</div>"
      ],
      "text/plain": [
       "             Name                     Position         Office  Age  \\\n",
       "0      Airi Satou                   Accountant          Tokyo   33   \n",
       "4  Brenden Wagner            Software Engineer  San Francisco   28   \n",
       "6      Bruno Nash            Software Engineer         London   38   \n",
       "7    Caesar Vance            Pre-Sales Support       New York   21   \n",
       "9    Cedric Kelly  Senior Javascript Developer      Edinburgh   22   \n",
       "\n",
       "   Start date    Salary  \n",
       "0  2008/11/28  $162,700  \n",
       "4  2011/06/07  $206,850  \n",
       "6  2011/05/03  $163,500  \n",
       "7  2011/12/12  $106,450  \n",
       "9  2012/03/29  $433,060  "
      ]
     },
     "execution_count": 10,
     "metadata": {},
     "output_type": "execute_result"
    }
   ],
   "source": [
    "#filter using where clause\n",
    "employee[employee.Age < 40].head()"
   ]
  },
  {
   "cell_type": "code",
   "execution_count": 11,
   "metadata": {},
   "outputs": [
    {
     "data": {
      "text/html": [
       "<div>\n",
       "<style scoped>\n",
       "    .dataframe tbody tr th:only-of-type {\n",
       "        vertical-align: middle;\n",
       "    }\n",
       "\n",
       "    .dataframe tbody tr th {\n",
       "        vertical-align: top;\n",
       "    }\n",
       "\n",
       "    .dataframe thead th {\n",
       "        text-align: right;\n",
       "    }\n",
       "</style>\n",
       "<table border=\"1\" class=\"dataframe\">\n",
       "  <thead>\n",
       "    <tr style=\"text-align: right;\">\n",
       "      <th></th>\n",
       "      <th>Name</th>\n",
       "      <th>Position</th>\n",
       "      <th>Office</th>\n",
       "      <th>Age</th>\n",
       "      <th>Start date</th>\n",
       "      <th>Salary</th>\n",
       "    </tr>\n",
       "  </thead>\n",
       "  <tbody>\n",
       "    <tr>\n",
       "      <td>0</td>\n",
       "      <td>Airi Satou</td>\n",
       "      <td>Accountant</td>\n",
       "      <td>Tokyo</td>\n",
       "      <td>33</td>\n",
       "      <td>2008/11/28</td>\n",
       "      <td>$162,700</td>\n",
       "    </tr>\n",
       "  </tbody>\n",
       "</table>\n",
       "</div>"
      ],
      "text/plain": [
       "         Name    Position Office  Age  Start date    Salary\n",
       "0  Airi Satou  Accountant  Tokyo   33  2008/11/28  $162,700"
      ]
     },
     "execution_count": 11,
     "metadata": {},
     "output_type": "execute_result"
    }
   ],
   "source": [
    "employee[(employee.Age < 40) & (employee.Name == \"Airi Satou\")]"
   ]
  },
  {
   "cell_type": "code",
   "execution_count": 12,
   "metadata": {},
   "outputs": [
    {
     "data": {
      "text/plain": [
       "Age    42.736842\n",
       "dtype: float64"
      ]
     },
     "execution_count": 12,
     "metadata": {},
     "output_type": "execute_result"
    }
   ],
   "source": [
    "#calculate mean\n",
    "employee.mean()"
   ]
  },
  {
   "cell_type": "code",
   "execution_count": 14,
   "metadata": {},
   "outputs": [
    {
     "data": {
      "text/plain": [
       "0        AIRI SATOU\n",
       "1    ANGELICA RAMOS\n",
       "2        ASHTON COX\n",
       "3     BRADLEY GREER\n",
       "4    BRENDEN WAGNER\n",
       "Name: Name, dtype: object"
      ]
     },
     "execution_count": 14,
     "metadata": {},
     "output_type": "execute_result"
    }
   ],
   "source": [
    "#string manipulation\n",
    "employee.Name.str.upper().head()"
   ]
  },
  {
   "cell_type": "code",
   "execution_count": 16,
   "metadata": {},
   "outputs": [
    {
     "data": {
      "text/plain": [
       "0    False\n",
       "1    False\n",
       "2    False\n",
       "3     True\n",
       "4     True\n",
       "Name: Position, dtype: bool"
      ]
     },
     "execution_count": 16,
     "metadata": {},
     "output_type": "execute_result"
    }
   ],
   "source": [
    "#searching for strings\n",
    "employee.Position.str.contains('Software').head()"
   ]
  },
  {
   "cell_type": "code",
   "execution_count": 18,
   "metadata": {},
   "outputs": [
    {
     "data": {
      "text/html": [
       "<div>\n",
       "<style scoped>\n",
       "    .dataframe tbody tr th:only-of-type {\n",
       "        vertical-align: middle;\n",
       "    }\n",
       "\n",
       "    .dataframe tbody tr th {\n",
       "        vertical-align: top;\n",
       "    }\n",
       "\n",
       "    .dataframe thead th {\n",
       "        text-align: right;\n",
       "    }\n",
       "</style>\n",
       "<table border=\"1\" class=\"dataframe\">\n",
       "  <thead>\n",
       "    <tr style=\"text-align: right;\">\n",
       "      <th></th>\n",
       "      <th>Name</th>\n",
       "      <th>Position</th>\n",
       "      <th>Office</th>\n",
       "      <th>Age</th>\n",
       "      <th>Start date</th>\n",
       "      <th>Salary</th>\n",
       "    </tr>\n",
       "  </thead>\n",
       "  <tbody>\n",
       "    <tr>\n",
       "      <td>3</td>\n",
       "      <td>Bradley Greer</td>\n",
       "      <td>Software Engineer</td>\n",
       "      <td>London</td>\n",
       "      <td>41</td>\n",
       "      <td>2012/10/13</td>\n",
       "      <td>$132,000</td>\n",
       "    </tr>\n",
       "    <tr>\n",
       "      <td>4</td>\n",
       "      <td>Brenden Wagner</td>\n",
       "      <td>Software Engineer</td>\n",
       "      <td>San Francisco</td>\n",
       "      <td>28</td>\n",
       "      <td>2011/06/07</td>\n",
       "      <td>$206,850</td>\n",
       "    </tr>\n",
       "    <tr>\n",
       "      <td>6</td>\n",
       "      <td>Bruno Nash</td>\n",
       "      <td>Software Engineer</td>\n",
       "      <td>London</td>\n",
       "      <td>38</td>\n",
       "      <td>2011/05/03</td>\n",
       "      <td>$163,500</td>\n",
       "    </tr>\n",
       "    <tr>\n",
       "      <td>46</td>\n",
       "      <td>Sonya Frost</td>\n",
       "      <td>Software Engineer</td>\n",
       "      <td>Edinburgh</td>\n",
       "      <td>23</td>\n",
       "      <td>2008/12/13</td>\n",
       "      <td>$103,600</td>\n",
       "    </tr>\n",
       "    <tr>\n",
       "      <td>55</td>\n",
       "      <td>Zenaida Frank</td>\n",
       "      <td>Software Engineer</td>\n",
       "      <td>New York</td>\n",
       "      <td>63</td>\n",
       "      <td>2010/01/04</td>\n",
       "      <td>$125,250</td>\n",
       "    </tr>\n",
       "  </tbody>\n",
       "</table>\n",
       "</div>"
      ],
      "text/plain": [
       "              Name           Position         Office  Age  Start date  \\\n",
       "3    Bradley Greer  Software Engineer         London   41  2012/10/13   \n",
       "4   Brenden Wagner  Software Engineer  San Francisco   28  2011/06/07   \n",
       "6       Bruno Nash  Software Engineer         London   38  2011/05/03   \n",
       "46     Sonya Frost  Software Engineer      Edinburgh   23  2008/12/13   \n",
       "55   Zenaida Frank  Software Engineer       New York   63  2010/01/04   \n",
       "\n",
       "      Salary  \n",
       "3   $132,000  \n",
       "4   $206,850  \n",
       "6   $163,500  \n",
       "46  $103,600  \n",
       "55  $125,250  "
      ]
     },
     "execution_count": 18,
     "metadata": {},
     "output_type": "execute_result"
    }
   ],
   "source": [
    "employee[employee.Position.str.contains('Software')].head()"
   ]
  },
  {
   "cell_type": "code",
   "execution_count": 19,
   "metadata": {},
   "outputs": [
    {
     "data": {
      "text/plain": [
       "0                       Accountant\n",
       "1    Chief Executive Officer (CEO)\n",
       "2          Junior Technical Author\n",
       "3               Software Developer\n",
       "4               Software Developer\n",
       "Name: Position, dtype: object"
      ]
     },
     "execution_count": 19,
     "metadata": {},
     "output_type": "execute_result"
    }
   ],
   "source": [
    "#replacing strings\n",
    "employee.Position.str.replace('Engineer','Developer').head()"
   ]
  },
  {
   "cell_type": "code",
   "execution_count": 20,
   "metadata": {},
   "outputs": [
    {
     "data": {
      "text/plain": [
       "19"
      ]
     },
     "execution_count": 20,
     "metadata": {},
     "output_type": "execute_result"
    }
   ],
   "source": [
    "#aggregations\n",
    "employee.Age.min()"
   ]
  },
  {
   "cell_type": "code",
   "execution_count": 23,
   "metadata": {},
   "outputs": [
    {
     "data": {
      "text/plain": [
       "Position\n",
       "Accountant                       33\n",
       "Chief Executive Officer (CEO)    47\n",
       "Chief Financial Officer (CFO)    64\n",
       "Chief Marketing Officer (CMO)    40\n",
       "Chief Operating Officer (COO)    48\n",
       "Name: Age, dtype: int64"
      ]
     },
     "execution_count": 23,
     "metadata": {},
     "output_type": "execute_result"
    }
   ],
   "source": [
    "#group by clause\n",
    "employee.groupby('Position').Age.min().head()"
   ]
  },
  {
   "cell_type": "code",
   "execution_count": 24,
   "metadata": {},
   "outputs": [
    {
     "data": {
      "text/html": [
       "<div>\n",
       "<style scoped>\n",
       "    .dataframe tbody tr th:only-of-type {\n",
       "        vertical-align: middle;\n",
       "    }\n",
       "\n",
       "    .dataframe tbody tr th {\n",
       "        vertical-align: top;\n",
       "    }\n",
       "\n",
       "    .dataframe thead th {\n",
       "        text-align: right;\n",
       "    }\n",
       "</style>\n",
       "<table border=\"1\" class=\"dataframe\">\n",
       "  <thead>\n",
       "    <tr style=\"text-align: right;\">\n",
       "      <th></th>\n",
       "      <th>count</th>\n",
       "      <th>min</th>\n",
       "      <th>max</th>\n",
       "    </tr>\n",
       "    <tr>\n",
       "      <th>Position</th>\n",
       "      <th></th>\n",
       "      <th></th>\n",
       "      <th></th>\n",
       "    </tr>\n",
       "  </thead>\n",
       "  <tbody>\n",
       "    <tr>\n",
       "      <td>Accountant</td>\n",
       "      <td>2</td>\n",
       "      <td>33</td>\n",
       "      <td>63</td>\n",
       "    </tr>\n",
       "    <tr>\n",
       "      <td>Chief Executive Officer (CEO)</td>\n",
       "      <td>1</td>\n",
       "      <td>47</td>\n",
       "      <td>47</td>\n",
       "    </tr>\n",
       "    <tr>\n",
       "      <td>Chief Financial Officer (CFO)</td>\n",
       "      <td>1</td>\n",
       "      <td>64</td>\n",
       "      <td>64</td>\n",
       "    </tr>\n",
       "    <tr>\n",
       "      <td>Chief Marketing Officer (CMO)</td>\n",
       "      <td>1</td>\n",
       "      <td>40</td>\n",
       "      <td>40</td>\n",
       "    </tr>\n",
       "    <tr>\n",
       "      <td>Chief Operating Officer (COO)</td>\n",
       "      <td>1</td>\n",
       "      <td>48</td>\n",
       "      <td>48</td>\n",
       "    </tr>\n",
       "  </tbody>\n",
       "</table>\n",
       "</div>"
      ],
      "text/plain": [
       "                               count  min  max\n",
       "Position                                      \n",
       "Accountant                         2   33   63\n",
       "Chief Executive Officer (CEO)      1   47   47\n",
       "Chief Financial Officer (CFO)      1   64   64\n",
       "Chief Marketing Officer (CMO)      1   40   40\n",
       "Chief Operating Officer (COO)      1   48   48"
      ]
     },
     "execution_count": 24,
     "metadata": {},
     "output_type": "execute_result"
    }
   ],
   "source": [
    "#list of aggregations\n",
    "employee.groupby('Position').Age.agg(['count','min','max']).head()"
   ]
  },
  {
   "cell_type": "code",
   "execution_count": null,
   "metadata": {},
   "outputs": [],
   "source": []
  }
 ],
 "metadata": {
  "kernelspec": {
   "display_name": "Python 3",
   "language": "python",
   "name": "python3"
  },
  "language_info": {
   "codemirror_mode": {
    "name": "ipython",
    "version": 3
   },
   "file_extension": ".py",
   "mimetype": "text/x-python",
   "name": "python",
   "nbconvert_exporter": "python",
   "pygments_lexer": "ipython3",
   "version": "3.7.4"
  }
 },
 "nbformat": 4,
 "nbformat_minor": 2
}
