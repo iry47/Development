{
 "cells": [
  {
   "cell_type": "markdown",
   "metadata": {},
   "source": [
    "This course is a continuation of *Intro to Data Science & Machine Learning with Python*.\n",
    "\n",
    "This module focuses on cleaning input data and analysis and will be using Pandas.\n",
    "\n",
    "**Pandas:** is a open source library providing high performance and easy to use data structures and data analysis tools for python.\n",
    "\n",
    "For more information and download instructions, please visit: https://pandas.pydata.org\n",
    "\n",
    "## Some Important Tools and Techniques\n",
    "\n",
    "- always read data first in order to perform analysis\n",
    "- various formats are used for data\n",
    "    - csv\n",
    "    - tab separated\n",
    "    - pipe delimited\n",
    "    - json\n",
    "    - sql\n",
    "    - xml\n",
    "    - and many more..."
   ]
  },
  {
   "cell_type": "code",
   "execution_count": null,
   "metadata": {},
   "outputs": [],
   "source": []
  }
 ],
 "metadata": {
  "kernelspec": {
   "display_name": "Python 3",
   "language": "python",
   "name": "python3"
  },
  "language_info": {
   "codemirror_mode": {
    "name": "ipython",
    "version": 3
   },
   "file_extension": ".py",
   "mimetype": "text/x-python",
   "name": "python",
   "nbconvert_exporter": "python",
   "pygments_lexer": "ipython3",
   "version": "3.7.4"
  }
 },
 "nbformat": 4,
 "nbformat_minor": 2
}
