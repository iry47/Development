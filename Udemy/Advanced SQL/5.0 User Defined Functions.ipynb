{
 "cells": [
  {
   "cell_type": "markdown",
   "metadata": {},
   "source": [
    "# What is a UDF\n",
    "\n",
    "Like functions in programming languages, SQL Server user-defined functions are routines that accept parameters, perform an action, such as a complex calculation, and return the result of that action as a value. The return value can either be a single scalar value or a result set."
   ]
  },
  {
   "cell_type": "markdown",
   "metadata": {},
   "source": [
    "# Create a UDF\n",
    "\n",
    "### Scalar example\n",
    "\n",
    "    CREATE FUNCTION SOMEFUNC()\n",
    "    RETURN MONEY\n",
    "    AS \n",
    "    BEGIN\n",
    "    DECLARE @PARAM MONEY\n",
    "    SELECT @PARAM = SUM(Col1) FROM [Database].[Table]\n",
    "    RETURN @PARAM\n",
    "    END\n",
    "    \n",
    "    DECLARE @PARAMRESULTS AS MONEY\n",
    "    SELECT @PARAMRESULTS = dbo.SOMEFUNC()\n",
    "    PRINT @PARAMRESULTS\n",
    "    \n",
    "**Parameterized example:**\n",
    "\n",
    "    CREATE FUNCTION OTHERFUNC\n",
    "    (@GROUP VARCHAR(50))\n",
    "    \n",
    "    RETURNS MONEY\n",
    "    AS\n",
    "    BEGIN\n",
    "    DECLARE @OTHERPARAM AS MONEY\n",
    "    SELECT @OTHERPARAM = SUM(col2) FROM [Database].[Table_One]\n",
    "    WHERE [GROUP] = @GROUP\n",
    "    RETURN @OTHERPARAM\n",
    "    END\n",
    "    \n",
    "    DECLARE @RESULTS MONEY\n",
    "    SELECT @RESULTS dbo.OTHERFUNC('example_val')\n",
    "    PRINT @RESULTS\n",
    "    \n",
    "### Table example\n",
    "\n",
    "    CREATE FUNCTION F_TABLE\n",
    "    (@Val INT)\n",
    "    RETURN TABLE \n",
    "    AS RETURN\n",
    "    SELECT Id, Name, Country, Other, [Group], Other2\n",
    "    FROM [Database].[Table_One]\n",
    "    WHERE Id = @Val\n",
    "    \n",
    "    SELECT Name, [Group] FROM dbo.F_TABLE(6)\n"
   ]
  }
 ],
 "metadata": {
  "kernelspec": {
   "display_name": "Python 3",
   "language": "python",
   "name": "python3"
  },
  "language_info": {
   "codemirror_mode": {
    "name": "ipython",
    "version": 3
   },
   "file_extension": ".py",
   "mimetype": "text/x-python",
   "name": "python",
   "nbconvert_exporter": "python",
   "pygments_lexer": "ipython3",
   "version": "3.7.4"
  }
 },
 "nbformat": 4,
 "nbformat_minor": 2
}
