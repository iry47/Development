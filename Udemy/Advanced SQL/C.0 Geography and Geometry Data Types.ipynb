{
 "cells": [
  {
   "cell_type": "markdown",
   "metadata": {},
   "source": [
    "# Geometry (2D)\n",
    "\n",
    "Geometry is a data type that can be applied in SQL. The following is being applied to a table with a column already configured with a geometry data type.\n",
    "\n",
    "    SELECT TOP 1000 [ID]\n",
    "        ,[SpatialData]\n",
    "    FROM [Database].[Table]\n",
    "    \n",
    "    INSERT INTO [Table] ([SpatialData])\n",
    "    VALUES\n",
    "    ('Point(7,12)')\n",
    "    ,('Linestring(0,0,7,8)')\n",
    "    ,(Polygon((0,0,8,5,3,6,12))')\n",
    "    \n",
    "The above is an example of some of the functions that exist for geometrical data. Many UI's provide the ability to display the results in graphs and other visuals.\n",
    "\n",
    "# Geography (3D)\n",
    "\n",
    "The same can be a\n",
    "\n"
   ]
  }
 ],
 "metadata": {
  "kernelspec": {
   "display_name": "Python 3",
   "language": "python",
   "name": "python3"
  },
  "language_info": {
   "codemirror_mode": {
    "name": "ipython",
    "version": 3
   },
   "file_extension": ".py",
   "mimetype": "text/x-python",
   "name": "python",
   "nbconvert_exporter": "python",
   "pygments_lexer": "ipython3",
   "version": "3.7.4"
  }
 },
 "nbformat": 4,
 "nbformat_minor": 2
}
