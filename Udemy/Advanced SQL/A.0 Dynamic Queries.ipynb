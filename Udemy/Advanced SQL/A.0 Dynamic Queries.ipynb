{
 "cells": [
  {
   "cell_type": "markdown",
   "metadata": {},
   "source": [
    "# Pivot Tables\n",
    "\n",
    "Pivot tables is a method of modifying the table through grouping and calculations of the data. \n",
    "\n",
    "# Examples\n",
    "\n",
    "    SELECT Country, [group], Sales\n",
    "    FROM [Database].[SalesTable]\n",
    "    \n",
    "Would be the standard table.\n",
    "\n",
    "    SELECT Country, [North America], [Europe]\n",
    "    FROM [Database].[SalesTable]\n",
    "    PIVOT\n",
    "    (\n",
    "        SUM(Sales) for [group]\n",
    "        IN ([North America], [Europe], [Pacific])\n",
    "    )\n",
    "    as pvt\n",
    "    \n",
    "Is that table pivoted to group by the columns provided and display to related total sales. While this shows the data desired, it requires the columns to be known before hand and hardcoded.\n",
    "\n",
    "# Dynamic Queries\n",
    "\n",
    "The following solves the hardcoded problem and automatically configures the data and displays it in a nice way.\n",
    "\n",
    "    DECLARE @sqlstring VARCHAR(2000)\n",
    "    SET @sqlstring = 'select country, [group], '\n",
    "    SET @sqlstring = @sqlstring + 'sales from database.sales'\n",
    "    \n",
    "    PRINT @sqlstring\n",
    "    EXEC (@sqlstring)\n",
    "    \n",
    "    "
   ]
  },
  {
   "cell_type": "code",
   "execution_count": null,
   "metadata": {},
   "outputs": [],
   "source": []
  }
 ],
 "metadata": {
  "kernelspec": {
   "display_name": "Python 3",
   "language": "python",
   "name": "python3"
  },
  "language_info": {
   "codemirror_mode": {
    "name": "ipython",
    "version": 3
   },
   "file_extension": ".py",
   "mimetype": "text/x-python",
   "name": "python",
   "nbconvert_exporter": "python",
   "pygments_lexer": "ipython3",
   "version": "3.7.4"
  }
 },
 "nbformat": 4,
 "nbformat_minor": 2
}
