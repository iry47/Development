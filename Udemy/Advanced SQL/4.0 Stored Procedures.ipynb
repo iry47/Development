{
 "cells": [
  {
   "cell_type": "markdown",
   "metadata": {},
   "source": [
    "# What is a stored procedure\n",
    "\n",
    "It is a subroutine available to applications that access a relational database system. Actually stored in the database dictionary and can go by the following names: proc, storp, sproc, StoPro, StoredProc, StorePoc, sp or SP."
   ]
  },
  {
   "cell_type": "markdown",
   "metadata": {},
   "source": [
    "For example, on a shopping site when you're looking at your cart, if you change the quantity of one of your products then this often will use a stored procedure to change the quantity value in the cart table for this specific customer."
   ]
  },
  {
   "cell_type": "markdown",
   "metadata": {},
   "source": [
    "# Create a stored procedure\n",
    "\n",
    "### GUI Method\n",
    "\n",
    "In the Programmability folder, normally located at the top level of a specific database folder, click `Stored Procedures` and you can view the predifined procedures and edit them.\n",
    "\n",
    "### Custom Method\n",
    "\n",
    "    CREATE PROCEDURE MyProcedure\n",
    "    AS \n",
    "    SET NOCOUNT ON\n",
    "    SELECT * FROM [Database].[Table]\n",
    "    \n",
    "    \n",
    "To run a stored procedure:\n",
    "\n",
    "    EXECUTE MyProcedure\n",
    "    \n",
    "OR\n",
    "    \n",
    "    EXEC MyProcedure"
   ]
  },
  {
   "cell_type": "markdown",
   "metadata": {},
   "source": [
    "## More examples\n",
    "\n",
    "**To delete a procedure**:\n",
    "\n",
    "    DROP PROC MyProcedure\n",
    "    \n",
    "**To create a procedure with parameters:**\n",
    "\n",
    "    CREATE PROCUEDRE MyParamProcedure\n",
    "    @Param_Name VARCHAR(50)\n",
    "    AS\n",
    "    SELECT * FROM [Database].[Table]\n",
    "    WHERE Name = @Param_Name\n",
    "    \n",
    "    EXEC MyParamProcedure @Param_Name = 'Example'\n",
    "    \n",
    "OR\n",
    "\n",
    "    EXEC MyParamProcedure 'Example'\n",
    "    \n",
    "While the number of parameters is unlimitted, the order is specific. If a parameter is missing, then an error will be returned.\n",
    "\n",
    "**Parameters with default values:**\n",
    "\n",
    "    CREATE PROCUEDRE MyParamProcedure\n",
    "    @Param_Name VARCHAR(50) = 'Default'\n",
    "    AS\n",
    "    SELECT * FROM [Database].[Table]\n",
    "    WHERE Name = @Param_Name\n",
    "    \n",
    "**Returning values:**\n",
    "\n",
    "    CREATE PROC myReturnSP\n",
    "    AS \n",
    "    RETURN 12\n",
    "    \n",
    "Testing:\n",
    "\n",
    "    DECLARE @returnVal INT\n",
    "    EXEC"
   ]
  },
  {
   "cell_type": "code",
   "execution_count": null,
   "metadata": {},
   "outputs": [],
   "source": []
  }
 ],
 "metadata": {
  "kernelspec": {
   "display_name": "Python 3",
   "language": "python",
   "name": "python3"
  },
  "language_info": {
   "codemirror_mode": {
    "name": "ipython",
    "version": 3
   },
   "file_extension": ".py",
   "mimetype": "text/x-python",
   "name": "python",
   "nbconvert_exporter": "python",
   "pygments_lexer": "ipython3",
   "version": "3.7.4"
  }
 },
 "nbformat": 4,
 "nbformat_minor": 2
}
