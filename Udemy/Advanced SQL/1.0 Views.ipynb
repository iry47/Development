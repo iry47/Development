{
 "cells": [
  {
   "cell_type": "markdown",
   "metadata": {},
   "source": [
    "# What is a view\n",
    "\n",
    "Views provide the ability to share the information from a table without duplicating the information. This provides the ability to filter through the table and show specific columns, without taking up more memory on the server.\n",
    "\n",
    "Essentially a view is a specific `SELECT` query on the table, which can also apply any desired computations (functions) on the data."
   ]
  },
  {
   "cell_type": "markdown",
   "metadata": {},
   "source": [
    "# Creating a view\n",
    "\n",
    "    CREATE VIEW MyCustomView\n",
    "    AS\n",
    "    SELECT * FROM [DATABASE].[TABLE]\n",
    "    WHERE <condition>\n",
    "    \n",
    "After a view is creating, it can be called and used like any other table.\n",
    "\n",
    "    SELECT * FROM MyCustomView\n",
    "    <condition>"
   ]
  }
 ],
 "metadata": {
  "kernelspec": {
   "display_name": "Python 3",
   "language": "python",
   "name": "python3"
  },
  "language_info": {
   "codemirror_mode": {
    "name": "ipython",
    "version": 3
   },
   "file_extension": ".py",
   "mimetype": "text/x-python",
   "name": "python",
   "nbconvert_exporter": "python",
   "pygments_lexer": "ipython3",
   "version": "3.7.4"
  }
 },
 "nbformat": 4,
 "nbformat_minor": 2
}
