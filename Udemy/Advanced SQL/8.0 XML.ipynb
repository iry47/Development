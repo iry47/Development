{
 "cells": [
  {
   "cell_type": "markdown",
   "metadata": {},
   "source": [
    "# What is XML\n",
    "\n",
    "XML is a datatype that is similar to html with open and close tags that store information between them. \n",
    "\n",
    "# Examples\n",
    "\n",
    "SQL has the ability to output data as XML.\n",
    "\n",
    "    SELECT * FROM [Database].[Table]\n",
    "    FOR XML AUTO, ELEMENTS, ROOT('MyRoot')\n",
    "    \n",
    "**The following examples will be taking data from a table that is already in XML format: 1 row and 1 column that contains all the XML.**\n",
    "\n",
    "We can also query sepecific tags from the XML:\n",
    "\n",
    "    SELECT [col1],query('/tag1/tag2') as [To]\n",
    "    FROM [Database].[Table]\n",
    "   \n",
    "We can also query sepecific values from the XML:\n",
    "\n",
    "    SELECT [col1],value('(/tag1/tag2)[1]','varchar(10)') as [To]\n",
    "    FROM [Database].[Table]\n",
    "   \n",
    "The data can also be parse into a classic table:\n",
    "\n",
    "    DECLARE @xmlhandle INT\n",
    "    DECLARE @xmldoc XML\n",
    "\n",
    "    SET @xmldoc = (SELECT * FROM [Database].[Table]\n",
    "    FOR XML AUTO, ELEMENTS, ROOT('MynewRoot'))\n",
    "    \n",
    "    EXEC SP_XML_PREPAREDOCUMENT @xmlhandle OUTPUT, @xmldoc\n",
    "    \n",
    "    SELECT * FROM OPENXML(@xmlhandle, '/MynewRoot/tag', 2)\n",
    "    WITH (Tid INT, Sales MONEY)\n",
    "    \n",
    "    EXEC SP_XML_REMOVEDOCUMENT @xmlhandle\n",
    "    \n",
    "The last line is used to free up resources."
   ]
  },
  {
   "cell_type": "code",
   "execution_count": null,
   "metadata": {},
   "outputs": [],
   "source": []
  }
 ],
 "metadata": {
  "kernelspec": {
   "display_name": "Python 3",
   "language": "python",
   "name": "python3"
  },
  "language_info": {
   "codemirror_mode": {
    "name": "ipython",
    "version": 3
   },
   "file_extension": ".py",
   "mimetype": "text/x-python",
   "name": "python",
   "nbconvert_exporter": "python",
   "pygments_lexer": "ipython3",
   "version": "3.7.4"
  }
 },
 "nbformat": 4,
 "nbformat_minor": 2
}
