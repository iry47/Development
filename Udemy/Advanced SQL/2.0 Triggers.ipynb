{
 "cells": [
  {
   "cell_type": "markdown",
   "metadata": {},
   "source": [
    "# What is a trigger\n",
    "\n",
    "Creating a function that will be fun on a specific event. For example, in a sales table, a company may want to log everytime that a sale greater than $5M happens."
   ]
  },
  {
   "cell_type": "markdown",
   "metadata": {},
   "source": [
    "# Create a trigger\n",
    "\n",
    "Example trigger:\n",
    "\n",
    "    CREATE TRIGGER Example_Trigger\n",
    "    ON [Database].[Table1]\n",
    "    AFTER INSERT\n",
    "    AS\n",
    "    BEGIN\n",
    "    PRINT 'INSERT IS NOT ALLOWED. YOU NEED APPROVAL'\n",
    "    ROLLBACK TRANSACTION\n",
    "    END\n",
    "    GO\n",
    "    \n",
    "Test the trigger:\n",
    "\n",
    "    INSERT INTO [Database].[Table1]\n",
    "    (\n",
    "    [COL1],\n",
    "    [COL2],\n",
    "    [COL3])\n",
    "    VALUES\n",
    "    ('VAL1'\n",
    "    ,'VAL2'\n",
    "    ,'VAL3'\n",
    "    )\n",
    "    \n",
    "This example creates a trigger on a table, but triggers can be created on any"
   ]
  },
  {
   "cell_type": "code",
   "execution_count": null,
   "metadata": {},
   "outputs": [],
   "source": []
  }
 ],
 "metadata": {
  "kernelspec": {
   "display_name": "Python 3",
   "language": "python",
   "name": "python3"
  },
  "language_info": {
   "codemirror_mode": {
    "name": "ipython",
    "version": 3
   },
   "file_extension": ".py",
   "mimetype": "text/x-python",
   "name": "python",
   "nbconvert_exporter": "python",
   "pygments_lexer": "ipython3",
   "version": "3.7.4"
  }
 },
 "nbformat": 4,
 "nbformat_minor": 2
}
