{
 "cells": [
  {
   "cell_type": "markdown",
   "metadata": {},
   "source": [
    "# What is it\n",
    "\n",
    "A partition is a way to segment your tables to increase the efficiency of applying conditions. For example, if you have a table with billions of rows, each where clause with look at each row and apply the condition. But if you partition the table, then maybe those billions of 'looks' turn into thousands.\n",
    "\n",
    "# Examples\n",
    "\n",
    "Partitions can be done by creating a function. In this way they can be applied dynamically to tables.\n",
    "\n",
    "    CREATE PARTITION FUNCTION cust_part_func(INT)\n",
    "    AS RANGE RIGHT\n",
    "    FOR VALUES(1000, 2000, 3000, 4000, 5000)\n",
    "    \n",
    "Schemas can also be created for partitions. \n",
    "\n",
    "    CREATE PARITION SCHEME cust_part_scheme\n",
    "    AS PARTITION cust_part_func\n",
    "    TO (fgp1, fgp2, fgp3, fgp4, fgp5, fgp6)\n",
    "    \n",
    "*The following code will produce an error unless the file groups are created in the database properties.*\n",
    "\n",
    "    CREATE TABLE PARITION\n",
    "    (EID INT IDENTITY(1,1) NOT NULL,\n",
    "    EDate DATETIME NULL\n",
    "    )\n",
    "    ON cust_part_scheme(EID)\n",
    "    \n",
    "    DECLARE @i int\n",
    "    SET @i = 0\n",
    "    WHILE @i<10000\n",
    "    BEGIN\n",
    "    INSERT INTO [partition](EDate) VALUES (GETDATE())\n",
    "    SET @i = @i + 1\n",
    "    END\n",
    "    \n",
    "    SELECT @partition.cust_part_func(E\n",
    "    "
   ]
  }
 ],
 "metadata": {
  "kernelspec": {
   "display_name": "Python 3",
   "language": "python",
   "name": "python3"
  },
  "language_info": {
   "codemirror_mode": {
    "name": "ipython",
    "version": 3
   },
   "file_extension": ".py",
   "mimetype": "text/x-python",
   "name": "python",
   "nbconvert_exporter": "python",
   "pygments_lexer": "ipython3",
   "version": "3.7.4"
  }
 },
 "nbformat": 4,
 "nbformat_minor": 2
}
