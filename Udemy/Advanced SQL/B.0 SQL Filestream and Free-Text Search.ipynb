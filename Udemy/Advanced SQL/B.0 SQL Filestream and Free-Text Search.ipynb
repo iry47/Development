{
 "cells": [
  {
   "cell_type": "markdown",
   "metadata": {},
   "source": [
    "# Filestream\n",
    "\n",
    "## Creating a file table\n",
    "\n",
    "SQL has the ability to store and work with files.\n",
    "\n",
    "    CREATE TABLE FILES\n",
    "    (\n",
    "    DOCID UNIQUEIDENTIFIER NOT NULL ROWGUIDCOL UNIQUE DEFAULT NEWID(),\n",
    "    DOC VARBINARY (MAX) FILESTREAM NULL\n",
    "    )\n",
    "    \n",
    "*All tables with files must contain a `UNIQUEIDENTIFIER` that cannot be null.*\n",
    "\n",
    "## Adding an exisiting file\n",
    "\n",
    "    DECLARE @DOC AS VARBINARY(MAX)\n",
    "    SELECT @DOC = CAST(BULKCOLUMN AS VARBINARY(MAX))\n",
    "    FROM OPENROWSET(BULK'C:\\FILES\\TEST.TXT',SINGLE_BLOB) AS DOC\n",
    "    \n",
    "    INSERT INTO FILES(DOC)\n",
    "    VALUES(@DOC)\n",
    "    \n",
    "    SELECT DOC FROM FILES \n",
    "    SELECT DOC.PathName() FROM FILES\n",
    "    \n",
    "The above takes an existing file on your computer and stores it in the database. "
   ]
  },
  {
   "cell_type": "markdown",
   "metadata": {},
   "source": [
    "# Free-Text Search\n",
    "\n",
    "SQL can search for text in the data.\n",
    "\n",
    "    SELECT * FROM [Database].[Table].[ColDescription]\n",
    "    \n",
    "The following clauses search for text in different way:\n",
    "\n",
    "    WHERE FREETEXT(*, 'strong and sturdy')\n",
    "    \n",
    "    WHERE CONTAINS(*, 'strong')\n",
    "    \n",
    "    WHERE CONTAINS(*, ' \"strong\" OR \"sturdy\" ')\n",
    "\n",
    "    WHERE CONTAINS(*, ' \"strong\" NEAR \"sturdy\" ')"
   ]
  },
  {
   "cell_type": "code",
   "execution_count": null,
   "metadata": {},
   "outputs": [],
   "source": []
  }
 ],
 "metadata": {
  "kernelspec": {
   "display_name": "Python 3",
   "language": "python",
   "name": "python3"
  },
  "language_info": {
   "codemirror_mode": {
    "name": "ipython",
    "version": 3
   },
   "file_extension": ".py",
   "mimetype": "text/x-python",
   "name": "python",
   "nbconvert_exporter": "python",
   "pygments_lexer": "ipython3",
   "version": "3.7.4"
  }
 },
 "nbformat": 4,
 "nbformat_minor": 2
}
