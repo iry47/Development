{
 "cells": [
  {
   "cell_type": "code",
   "execution_count": 4,
   "metadata": {},
   "outputs": [],
   "source": [
    "from IPython.display import display"
   ]
  },
  {
   "cell_type": "markdown",
   "metadata": {},
   "source": [
    "# What is Machine Learning\n",
    "\n",
    "Providing the ability for machines to learn without being explicity programmed.\n",
    "\n",
    "The process is generalized by three main steps:\n",
    "\n",
    "1. Input data\n",
    "2. Machine learning algorithm\n",
    "3. Patters/Predictions/Knowledge\n",
    "\n",
    "### Important factors:\n",
    "- the inputs need to be relevant to your algorithm\n",
    "- the correct algorithm must be chosen for optimal results - there are two main types\n",
    "\n",
    "    - **Supervised Learning**: Inputs and outputs are supplied to the algorithm to study patterns. This is typically done with the algorithm is fed the input as well as the output, so it can build predictions from previously confirmed results.\n",
    "    \n",
    "    - **Unserpervised Learning**: Only inputs are supplied to the algorithm. Taking the inputs, the algorithm clusters them together or tells us how the inputs are associated with one another."
   ]
  },
  {
   "cell_type": "markdown",
   "metadata": {},
   "source": [
    "\n",
    "## Tools used in this course\n",
    "\n",
    "#### Python\n",
    "The most common programming language used with machine learning. This is often paired with **Anaconda**, the most popular distribution of python - aka IDE like Eclipse, PHPStorm, etc.\n",
    "\n",
    "#### Scikit-Learn\n",
    "A python package for python that helps perform machine learning tasks and input data manipulation."
   ]
  },
  {
   "cell_type": "markdown",
   "metadata": {},
   "source": [
    "## Simple Example\n",
    "\n",
    "Feeding this input to an ML algorithm:\n",
    "\n",
    "<table>\n",
    "    <tr>\n",
    "        <th>Sales (x)</th>\n",
    "        <th>Profit (y)</th>\n",
    "    </tr>\n",
    "    <tr>\n",
    "        <td>30</td>\n",
    "        <td>3</td>\n",
    "    </tr>\n",
    "    <tr>\n",
    "        <td>40</td>\n",
    "        <td>4</td>\n",
    "    </tr>\n",
    "    <tr>\n",
    "        <td>50</td>\n",
    "        <td>5</td>\n",
    "    </tr>\n",
    "    <tr>\n",
    "        <td>70</td>\n",
    "        <td>7</td>\n",
    "    </tr>\n",
    "</table>\n",
    "\n",
    "The output received is:"
   ]
  },
  {
   "cell_type": "code",
   "execution_count": 2,
   "metadata": {},
   "outputs": [
    {
     "data": {
      "text/latex": [
       "\n",
       "$$ y = x * 0.1 $$\n"
      ],
      "text/plain": [
       "<IPython.core.display.Latex object>"
      ]
     },
     "metadata": {},
     "output_type": "display_data"
    }
   ],
   "source": [
    "%%latex\n",
    "\n",
    "$$ y = x * 0.1 $$"
   ]
  },
  {
   "cell_type": "markdown",
   "metadata": {},
   "source": [
    "Which is the model defined by the algorithm. With it we can apply it to any input (Sales) and received the predicted output (Profit)."
   ]
  },
  {
   "cell_type": "markdown",
   "metadata": {},
   "source": [
    "## Extracting Data\n",
    "\n",
    "When playing with data, it is extremely easy to extract data from the internet. For an example, we can grab data from the following site:"
   ]
  },
  {
   "cell_type": "code",
   "execution_count": 22,
   "metadata": {},
   "outputs": [
    {
     "data": {
      "text/html": [
       "\n",
       "        <iframe\n",
       "            width=\"100%\"\n",
       "            height=\"350\"\n",
       "            src=\"http://mlr.cs.umass.edu/ml/machine-learning-databases/car/car.data\"\n",
       "            frameborder=\"0\"\n",
       "            allowfullscreen\n",
       "        ></iframe>\n",
       "        "
      ],
      "text/plain": [
       "<IPython.lib.display.IFrame at 0x10e3ca490>"
      ]
     },
     "execution_count": 22,
     "metadata": {},
     "output_type": "execute_result"
    }
   ],
   "source": [
    "from IPython.display import IFrame\n",
    "IFrame(src='http://mlr.cs.umass.edu/ml/machine-learning-databases/car/car.data',width='100%',height=350)"
   ]
  },
  {
   "cell_type": "code",
   "execution_count": null,
   "metadata": {},
   "outputs": [],
   "source": []
  }
 ],
 "metadata": {
  "kernelspec": {
   "display_name": "Python 3",
   "language": "python",
   "name": "python3"
  },
  "language_info": {
   "codemirror_mode": {
    "name": "ipython",
    "version": 3
   },
   "file_extension": ".py",
   "mimetype": "text/x-python",
   "name": "python",
   "nbconvert_exporter": "python",
   "pygments_lexer": "ipython3",
   "version": "3.7.4"
  }
 },
 "nbformat": 4,
 "nbformat_minor": 2
}
