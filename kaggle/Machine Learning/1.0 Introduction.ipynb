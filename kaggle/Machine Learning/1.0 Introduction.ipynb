{
 "cells": [
  {
   "cell_type": "markdown",
   "metadata": {},
   "source": [
    "# What is it?\n",
    "\n",
    "Machine learning is essentially the creation of a function (refered to as a model) that takes inputs and provides outputs. \n",
    "\n",
    "The example used in this course is two cousins that create a model that takes in houses and outputs their worth. \n",
    "\n",
    "The complexities of machine learning lie in creating an accurate model that predicts values as close to the truth as possible.\n",
    "\n",
    "## Definitions\n",
    "\n",
    "**Fitting:** Capturing patterns from the data, also referred to as *training* the model. \n",
    "In the example, we divide houses into two categories and the calculates the predicted price based of the historical average price of houses in the same category. This is fitting the model.\n",
    "\n",
    "**Training data:** The data used to *fit* or *train* the model \n",
    "\n",
    "**Decision Tree:** A type of model. While it is one of the simplest models that doesn't necesarily provide the most accurate predictions, they remain the basic building block for some of the best models in data science.\n",
    "The image above depicts an example tree for the two cousins."
   ]
  },
  {
   "cell_type": "code",
   "execution_count": 5,
   "metadata": {},
   "outputs": [
    {
     "data": {
      "text/html": [
       "<img src=\"https://i.imgur.com/R3ywQsR.png\"/>"
      ],
      "text/plain": [
       "<IPython.core.display.Image object>"
      ]
     },
     "execution_count": 5,
     "metadata": {},
     "output_type": "execute_result"
    }
   ],
   "source": [
    "from IPython.display import Image\n",
    "Image(url='https://i.imgur.com/R3ywQsR.png')"
   ]
  },
  {
   "cell_type": "markdown",
   "metadata": {},
   "source": [
    "**Leaf:** The squares at the bottom of a decision tree where a decision is made"
   ]
  },
  {
   "cell_type": "markdown",
   "metadata": {},
   "source": [
    "# Model Validation\n",
    "\n",
    "After model creation, we must have a way to validate its functionality. This is almost always based on the model's prediction accuracy: how close is its output to what actually happens.\n",
    "\n",
    "A very important step of this process is to avoid comparing the predictions from the *training data* to the target values in the same *training data*. The reason for this is that often a pattern appears in a sample size of data that is not true for the entire data set. \n",
    "\n",
    "In this example, if all the houses we took for our training data happened to be expensive when they had green doors, the model would apply this to its prediction algorithm. This however is most likely not the case for the entire data set and when we later introduce new data, we will have false results."
   ]
  },
  {
   "cell_type": "markdown",
   "metadata": {},
   "source": [
    "**Overfitting:** capturing spurious patterns that won't recur in the future, leading to less accurate predictions\n",
    "\n",
    "**Underfitting:** failing to capture relevant patters, again leading to less accurate predictions\n",
    "\n",
    "Calculating the error is how we determine the accuracy, and there are several methods to do so. In this example we use the *mean absolute error*\n",
    "    \n",
    "    mean_absolute_error = actual - predictions"
   ]
  },
  {
   "cell_type": "code",
   "execution_count": null,
   "metadata": {},
   "outputs": [],
   "source": []
  }
 ],
 "metadata": {
  "kernelspec": {
   "display_name": "Python 3",
   "language": "python",
   "name": "python3"
  },
  "language_info": {
   "codemirror_mode": {
    "name": "ipython",
    "version": 3
   },
   "file_extension": ".py",
   "mimetype": "text/x-python",
   "name": "python",
   "nbconvert_exporter": "python",
   "pygments_lexer": "ipython3",
   "version": "3.7.4"
  }
 },
 "nbformat": 4,
 "nbformat_minor": 2
}
