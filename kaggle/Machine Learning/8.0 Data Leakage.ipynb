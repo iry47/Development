{
 "cells": [
  {
   "cell_type": "markdown",
   "metadata": {},
   "source": [
    "# Introduction\n",
    "\n",
    "**Data leakage** or simply leakage, happens when your training data contains information about the target, but similar data will not be available when the model is used for prediction. This means the model will seem acurate in testing but in production it produces poor results.\n",
    "\n",
    "There are two types of leakage:\n",
    "- target leakage\n",
    "- train-test contamination\n",
    "\n",
    "### Target Leakage\n",
    "This occurs when your predictors include data that will not be available at the time you make predictions. Often it is a result of *timing* or the *chronological order* that data becomes available.\n",
    "\n",
    "##### Example\n",
    "Looking at the table below, the information in the took_antibiotic_medicine and got_pneumonia columns are extremely related, but trainnig a model on this relationship would be target leakage since the patient would only take the medicine after being diagnosed with pneumonia.\n",
    "\n",
    "<table>\n",
    "<thead><tr>\n",
    "<th style=\"text-align:center\">got_pneumonia</th>\n",
    "<th style=\"text-align:center\">age</th>\n",
    "<th style=\"text-align:center\">weight</th>\n",
    "<th style=\"text-align:center\">male</th>\n",
    "<th style=\"text-align:center\">took_antibiotic_medicine</th>\n",
    "<th>...</th>\n",
    "</tr>\n",
    "</thead>\n",
    "<tbody>\n",
    "<tr>\n",
    "<td style=\"text-align:center\">False</td>\n",
    "<td style=\"text-align:center\">65</td>\n",
    "<td style=\"text-align:center\">100</td>\n",
    "<td style=\"text-align:center\">False</td>\n",
    "<td style=\"text-align:center\">False</td>\n",
    "<td>...</td>\n",
    "</tr>\n",
    "<tr>\n",
    "<td style=\"text-align:center\">False</td>\n",
    "<td style=\"text-align:center\">72</td>\n",
    "<td style=\"text-align:center\">130</td>\n",
    "<td style=\"text-align:center\">True</td>\n",
    "<td style=\"text-align:center\">False</td>\n",
    "<td>...</td>\n",
    "</tr>\n",
    "<tr>\n",
    "<td style=\"text-align:center\">True</td>\n",
    "<td style=\"text-align:center\">58</td>\n",
    "<td style=\"text-align:center\">100</td>\n",
    "<td style=\"text-align:center\">False</td>\n",
    "<td style=\"text-align:center\">True</td>\n",
    "<td>...</td>\n",
    "</tr>\n",
    "</tbody>\n",
    "</table>"
   ]
  },
  {
   "cell_type": "markdown",
   "metadata": {},
   "source": [
    "A usefule idea to avoid this is separating our information in terms of time before and after the prediction is made:"
   ]
  },
  {
   "cell_type": "code",
   "execution_count": 1,
   "metadata": {},
   "outputs": [
    {
     "data": {
      "text/html": [
       "<img src=\"https://i.imgur.com/y7hfTYe.png\"/>"
      ],
      "text/plain": [
       "<IPython.core.display.Image object>"
      ]
     },
     "execution_count": 1,
     "metadata": {},
     "output_type": "execute_result"
    }
   ],
   "source": [
    "from IPython.display import Image\n",
    "Image(url=\"https://i.imgur.com/y7hfTYe.png\")"
   ]
  },
  {
   "cell_type": "markdown",
   "metadata": {},
   "source": [
    "### Train-Test Contamination\n",
    "\n",
    "This happens when the training and test data is properly separated. The model is incorporating the validation data into how it makes it predictions: essentially it is using the answers in its process to solve for them.\n",
    "\n",
    "With large and complicated data sets, this problem can more easily slip into the process. "
   ]
  },
  {
   "cell_type": "code",
   "execution_count": null,
   "metadata": {},
   "outputs": [],
   "source": []
  }
 ],
 "metadata": {
  "kernelspec": {
   "display_name": "Python 3",
   "language": "python",
   "name": "python3"
  },
  "language_info": {
   "codemirror_mode": {
    "name": "ipython",
    "version": 3
   },
   "file_extension": ".py",
   "mimetype": "text/x-python",
   "name": "python",
   "nbconvert_exporter": "python",
   "pygments_lexer": "ipython3",
   "version": "3.7.4"
  }
 },
 "nbformat": 4,
 "nbformat_minor": 2
}
