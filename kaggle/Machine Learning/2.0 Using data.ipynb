{
 "cells": [
  {
   "cell_type": "code",
   "execution_count": 2,
   "metadata": {},
   "outputs": [],
   "source": [
    "import urllib\n",
    "import json\n",
    "import pandas as pd"
   ]
  },
  {
   "cell_type": "code",
   "execution_count": 3,
   "metadata": {},
   "outputs": [],
   "source": [
    "url = 'https://ckan0.cf.opendata.inter.prod-toronto.ca/api/3/action/package_show'\n",
    "params = { \"id\": \"498d16dd-31cf-4d68-8ba5-a9df131accc6\"}\n",
    "response = urllib.request.urlopen(url, data=bytes(json.dumps(params), encoding=\"utf-8\"))\n",
    "package = json.loads(response.read())\n"
   ]
  },
  {
   "cell_type": "code",
   "execution_count": 4,
   "metadata": {},
   "outputs": [],
   "source": [
    "data = pd.read_json(urllib.request.urlopen(url, data=bytes(json.dumps(params), encoding=\"utf-8\")))"
   ]
  },
  {
   "cell_type": "code",
   "execution_count": 5,
   "metadata": {},
   "outputs": [
    {
     "data": {
      "text/html": [
       "<div>\n",
       "<style scoped>\n",
       "    .dataframe tbody tr th:only-of-type {\n",
       "        vertical-align: middle;\n",
       "    }\n",
       "\n",
       "    .dataframe tbody tr th {\n",
       "        vertical-align: top;\n",
       "    }\n",
       "\n",
       "    .dataframe thead th {\n",
       "        text-align: right;\n",
       "    }\n",
       "</style>\n",
       "<table border=\"1\" class=\"dataframe\">\n",
       "  <thead>\n",
       "    <tr style=\"text-align: right;\">\n",
       "      <th></th>\n",
       "      <th>help</th>\n",
       "      <th>success</th>\n",
       "      <th>result</th>\n",
       "    </tr>\n",
       "  </thead>\n",
       "  <tbody>\n",
       "    <tr>\n",
       "      <td>count</td>\n",
       "      <td>41</td>\n",
       "      <td>41</td>\n",
       "      <td>35</td>\n",
       "    </tr>\n",
       "    <tr>\n",
       "      <td>unique</td>\n",
       "      <td>1</td>\n",
       "      <td>1</td>\n",
       "      <td>31</td>\n",
       "    </tr>\n",
       "    <tr>\n",
       "      <td>top</td>\n",
       "      <td>https://ckan0.cf.opendata.inter.prod-toronto.c...</td>\n",
       "      <td>True</td>\n",
       "      <td>False</td>\n",
       "    </tr>\n",
       "    <tr>\n",
       "      <td>freq</td>\n",
       "      <td>41</td>\n",
       "      <td>41</td>\n",
       "      <td>3</td>\n",
       "    </tr>\n",
       "  </tbody>\n",
       "</table>\n",
       "</div>"
      ],
      "text/plain": [
       "                                                     help success result\n",
       "count                                                  41      41     35\n",
       "unique                                                  1       1     31\n",
       "top     https://ckan0.cf.opendata.inter.prod-toronto.c...    True  False\n",
       "freq                                                   41      41      3"
      ]
     },
     "execution_count": 5,
     "metadata": {},
     "output_type": "execute_result"
    }
   ],
   "source": [
    "data.describe()"
   ]
  },
  {
   "cell_type": "code",
   "execution_count": 6,
   "metadata": {},
   "outputs": [
    {
     "data": {
      "text/html": [
       "<div>\n",
       "<style scoped>\n",
       "    .dataframe tbody tr th:only-of-type {\n",
       "        vertical-align: middle;\n",
       "    }\n",
       "\n",
       "    .dataframe tbody tr th {\n",
       "        vertical-align: top;\n",
       "    }\n",
       "\n",
       "    .dataframe thead th {\n",
       "        text-align: right;\n",
       "    }\n",
       "</style>\n",
       "<table border=\"1\" class=\"dataframe\">\n",
       "  <thead>\n",
       "    <tr style=\"text-align: right;\">\n",
       "      <th></th>\n",
       "      <th>help</th>\n",
       "      <th>success</th>\n",
       "      <th>result</th>\n",
       "    </tr>\n",
       "  </thead>\n",
       "  <tbody>\n",
       "    <tr>\n",
       "      <td>civic_issues</td>\n",
       "      <td>https://ckan0.cf.opendata.inter.prod-toronto.c...</td>\n",
       "      <td>True</td>\n",
       "      <td>Affordable housing,Poverty reduction</td>\n",
       "    </tr>\n",
       "    <tr>\n",
       "      <td>collection_method</td>\n",
       "      <td>https://ckan0.cf.opendata.inter.prod-toronto.c...</td>\n",
       "      <td>True</td>\n",
       "      <td>None</td>\n",
       "    </tr>\n",
       "    <tr>\n",
       "      <td>creator_user_id</td>\n",
       "      <td>https://ckan0.cf.opendata.inter.prod-toronto.c...</td>\n",
       "      <td>True</td>\n",
       "      <td>150d5301-86ec-44a3-a070-50f2cea839c9</td>\n",
       "    </tr>\n",
       "    <tr>\n",
       "      <td>dataset_category</td>\n",
       "      <td>https://ckan0.cf.opendata.inter.prod-toronto.c...</td>\n",
       "      <td>True</td>\n",
       "      <td>Document</td>\n",
       "    </tr>\n",
       "    <tr>\n",
       "      <td>excerpt</td>\n",
       "      <td>https://ckan0.cf.opendata.inter.prod-toronto.c...</td>\n",
       "      <td>True</td>\n",
       "      <td>This dataset contains information relating to ...</td>\n",
       "    </tr>\n",
       "  </tbody>\n",
       "</table>\n",
       "</div>"
      ],
      "text/plain": [
       "                                                                help  success  \\\n",
       "civic_issues       https://ckan0.cf.opendata.inter.prod-toronto.c...     True   \n",
       "collection_method  https://ckan0.cf.opendata.inter.prod-toronto.c...     True   \n",
       "creator_user_id    https://ckan0.cf.opendata.inter.prod-toronto.c...     True   \n",
       "dataset_category   https://ckan0.cf.opendata.inter.prod-toronto.c...     True   \n",
       "excerpt            https://ckan0.cf.opendata.inter.prod-toronto.c...     True   \n",
       "\n",
       "                                                              result  \n",
       "civic_issues                    Affordable housing,Poverty reduction  \n",
       "collection_method                                               None  \n",
       "creator_user_id                 150d5301-86ec-44a3-a070-50f2cea839c9  \n",
       "dataset_category                                            Document  \n",
       "excerpt            This dataset contains information relating to ...  "
      ]
     },
     "execution_count": 6,
     "metadata": {},
     "output_type": "execute_result"
    }
   ],
   "source": [
    "data.head()"
   ]
  },
  {
   "cell_type": "code",
   "execution_count": 7,
   "metadata": {},
   "outputs": [],
   "source": [
    "xls = pd.ExcelFile('./ressources/wellbeing-toronto-housing.xlsx')"
   ]
  },
  {
   "cell_type": "code",
   "execution_count": 8,
   "metadata": {},
   "outputs": [
    {
     "data": {
      "text/plain": [
       "['IndicatorMetadata', 'RawDataRef-Period2008', 'RawDataRef_2011']"
      ]
     },
     "execution_count": 8,
     "metadata": {},
     "output_type": "execute_result"
    }
   ],
   "source": [
    "xls.sheet_names"
   ]
  },
  {
   "cell_type": "code",
   "execution_count": 9,
   "metadata": {},
   "outputs": [
    {
     "data": {
      "text/html": [
       "<div>\n",
       "<style scoped>\n",
       "    .dataframe tbody tr th:only-of-type {\n",
       "        vertical-align: middle;\n",
       "    }\n",
       "\n",
       "    .dataframe tbody tr th {\n",
       "        vertical-align: top;\n",
       "    }\n",
       "\n",
       "    .dataframe thead th {\n",
       "        text-align: right;\n",
       "    }\n",
       "</style>\n",
       "<table border=\"1\" class=\"dataframe\">\n",
       "  <thead>\n",
       "    <tr style=\"text-align: right;\">\n",
       "      <th></th>\n",
       "      <th>Neighbourhood</th>\n",
       "      <th>Neighbourhood Id</th>\n",
       "      <th>Home Prices</th>\n",
       "      <th>Mid-Century Highrise Households</th>\n",
       "      <th>Mid-Century Highrise Population</th>\n",
       "      <th>Percent Mid-Century Highrise Households</th>\n",
       "      <th>Percent Mid-Century Highrise Population</th>\n",
       "      <th>Rent Bank Applicants</th>\n",
       "      <th>Social Housing Turnover</th>\n",
       "      <th>Social Housing Units</th>\n",
       "      <th>Social Housing Waiting List</th>\n",
       "    </tr>\n",
       "  </thead>\n",
       "  <tbody>\n",
       "    <tr>\n",
       "      <td>0</td>\n",
       "      <td>West Humber-Clairville</td>\n",
       "      <td>1</td>\n",
       "      <td>317508</td>\n",
       "      <td>690</td>\n",
       "      <td>1810</td>\n",
       "      <td>6.8</td>\n",
       "      <td>5.3</td>\n",
       "      <td>38</td>\n",
       "      <td>0.312500</td>\n",
       "      <td>952</td>\n",
       "      <td>557</td>\n",
       "    </tr>\n",
       "    <tr>\n",
       "      <td>1</td>\n",
       "      <td>Mount Olive-Silverstone-Jamestown</td>\n",
       "      <td>2</td>\n",
       "      <td>251119</td>\n",
       "      <td>4110</td>\n",
       "      <td>13395</td>\n",
       "      <td>42.9</td>\n",
       "      <td>40.9</td>\n",
       "      <td>41</td>\n",
       "      <td>7.000000</td>\n",
       "      <td>1146</td>\n",
       "      <td>1049</td>\n",
       "    </tr>\n",
       "    <tr>\n",
       "      <td>2</td>\n",
       "      <td>Thistletown-Beaumond Heights</td>\n",
       "      <td>3</td>\n",
       "      <td>414216</td>\n",
       "      <td>430</td>\n",
       "      <td>1260</td>\n",
       "      <td>13.4</td>\n",
       "      <td>12.4</td>\n",
       "      <td>7</td>\n",
       "      <td>1.333333</td>\n",
       "      <td>447</td>\n",
       "      <td>270</td>\n",
       "    </tr>\n",
       "    <tr>\n",
       "      <td>3</td>\n",
       "      <td>Rexdale-Kipling</td>\n",
       "      <td>4</td>\n",
       "      <td>392271</td>\n",
       "      <td>600</td>\n",
       "      <td>1050</td>\n",
       "      <td>15.2</td>\n",
       "      <td>10.0</td>\n",
       "      <td>19</td>\n",
       "      <td>4.200000</td>\n",
       "      <td>432</td>\n",
       "      <td>186</td>\n",
       "    </tr>\n",
       "    <tr>\n",
       "      <td>4</td>\n",
       "      <td>Elms-Old Rexdale</td>\n",
       "      <td>5</td>\n",
       "      <td>233832</td>\n",
       "      <td>870</td>\n",
       "      <td>2305</td>\n",
       "      <td>27.3</td>\n",
       "      <td>24.1</td>\n",
       "      <td>14</td>\n",
       "      <td>1.000000</td>\n",
       "      <td>463</td>\n",
       "      <td>239</td>\n",
       "    </tr>\n",
       "  </tbody>\n",
       "</table>\n",
       "</div>"
      ],
      "text/plain": [
       "                       Neighbourhood  Neighbourhood Id  Home Prices  \\\n",
       "0             West Humber-Clairville                 1       317508   \n",
       "1  Mount Olive-Silverstone-Jamestown                 2       251119   \n",
       "2       Thistletown-Beaumond Heights                 3       414216   \n",
       "3                    Rexdale-Kipling                 4       392271   \n",
       "4                   Elms-Old Rexdale                 5       233832   \n",
       "\n",
       "   Mid-Century Highrise Households  Mid-Century Highrise Population  \\\n",
       "0                              690                             1810   \n",
       "1                             4110                            13395   \n",
       "2                              430                             1260   \n",
       "3                              600                             1050   \n",
       "4                              870                             2305   \n",
       "\n",
       "   Percent Mid-Century Highrise Households  \\\n",
       "0                                      6.8   \n",
       "1                                     42.9   \n",
       "2                                     13.4   \n",
       "3                                     15.2   \n",
       "4                                     27.3   \n",
       "\n",
       "   Percent Mid-Century Highrise Population  Rent Bank Applicants  \\\n",
       "0                                      5.3                    38   \n",
       "1                                     40.9                    41   \n",
       "2                                     12.4                     7   \n",
       "3                                     10.0                    19   \n",
       "4                                     24.1                    14   \n",
       "\n",
       "   Social Housing Turnover  Social Housing Units  Social Housing Waiting List  \n",
       "0                 0.312500                   952                          557  \n",
       "1                 7.000000                  1146                         1049  \n",
       "2                 1.333333                   447                          270  \n",
       "3                 4.200000                   432                          186  \n",
       "4                 1.000000                   463                          239  "
      ]
     },
     "execution_count": 9,
     "metadata": {},
     "output_type": "execute_result"
    }
   ],
   "source": [
    "toronto_data = xls.parse('RawDataRef_2011')\n",
    "toronto_data.head()"
   ]
  },
  {
   "cell_type": "code",
   "execution_count": 10,
   "metadata": {},
   "outputs": [],
   "source": [
    "y = toronto_data['Home Prices']"
   ]
  },
  {
   "cell_type": "code",
   "execution_count": 11,
   "metadata": {},
   "outputs": [
    {
     "data": {
      "text/html": [
       "<div>\n",
       "<style scoped>\n",
       "    .dataframe tbody tr th:only-of-type {\n",
       "        vertical-align: middle;\n",
       "    }\n",
       "\n",
       "    .dataframe tbody tr th {\n",
       "        vertical-align: top;\n",
       "    }\n",
       "\n",
       "    .dataframe thead th {\n",
       "        text-align: right;\n",
       "    }\n",
       "</style>\n",
       "<table border=\"1\" class=\"dataframe\">\n",
       "  <thead>\n",
       "    <tr style=\"text-align: right;\">\n",
       "      <th></th>\n",
       "      <th>Mid-Century Highrise Households</th>\n",
       "      <th>Percent Mid-Century Highrise Households</th>\n",
       "      <th>Social Housing Units</th>\n",
       "      <th>Social Housing Waiting List</th>\n",
       "    </tr>\n",
       "  </thead>\n",
       "  <tbody>\n",
       "    <tr>\n",
       "      <td>count</td>\n",
       "      <td>140.000000</td>\n",
       "      <td>140.000000</td>\n",
       "      <td>140.000000</td>\n",
       "      <td>140.000000</td>\n",
       "    </tr>\n",
       "    <tr>\n",
       "      <td>mean</td>\n",
       "      <td>1807.178571</td>\n",
       "      <td>23.058571</td>\n",
       "      <td>657.950000</td>\n",
       "      <td>410.300000</td>\n",
       "    </tr>\n",
       "    <tr>\n",
       "      <td>std</td>\n",
       "      <td>1716.867045</td>\n",
       "      <td>17.579026</td>\n",
       "      <td>719.753318</td>\n",
       "      <td>314.164432</td>\n",
       "    </tr>\n",
       "    <tr>\n",
       "      <td>min</td>\n",
       "      <td>0.000000</td>\n",
       "      <td>0.000000</td>\n",
       "      <td>0.000000</td>\n",
       "      <td>16.000000</td>\n",
       "    </tr>\n",
       "    <tr>\n",
       "      <td>25%</td>\n",
       "      <td>508.750000</td>\n",
       "      <td>8.875000</td>\n",
       "      <td>161.250000</td>\n",
       "      <td>169.750000</td>\n",
       "    </tr>\n",
       "    <tr>\n",
       "      <td>50%</td>\n",
       "      <td>1240.000000</td>\n",
       "      <td>19.600000</td>\n",
       "      <td>468.000000</td>\n",
       "      <td>321.000000</td>\n",
       "    </tr>\n",
       "    <tr>\n",
       "      <td>75%</td>\n",
       "      <td>2691.250000</td>\n",
       "      <td>32.300000</td>\n",
       "      <td>919.750000</td>\n",
       "      <td>573.500000</td>\n",
       "    </tr>\n",
       "    <tr>\n",
       "      <td>max</td>\n",
       "      <td>8410.000000</td>\n",
       "      <td>76.100000</td>\n",
       "      <td>3990.000000</td>\n",
       "      <td>1573.000000</td>\n",
       "    </tr>\n",
       "  </tbody>\n",
       "</table>\n",
       "</div>"
      ],
      "text/plain": [
       "       Mid-Century Highrise Households  \\\n",
       "count                       140.000000   \n",
       "mean                       1807.178571   \n",
       "std                        1716.867045   \n",
       "min                           0.000000   \n",
       "25%                         508.750000   \n",
       "50%                        1240.000000   \n",
       "75%                        2691.250000   \n",
       "max                        8410.000000   \n",
       "\n",
       "       Percent Mid-Century Highrise Households  Social Housing Units  \\\n",
       "count                               140.000000            140.000000   \n",
       "mean                                 23.058571            657.950000   \n",
       "std                                  17.579026            719.753318   \n",
       "min                                   0.000000              0.000000   \n",
       "25%                                   8.875000            161.250000   \n",
       "50%                                  19.600000            468.000000   \n",
       "75%                                  32.300000            919.750000   \n",
       "max                                  76.100000           3990.000000   \n",
       "\n",
       "       Social Housing Waiting List  \n",
       "count                   140.000000  \n",
       "mean                    410.300000  \n",
       "std                     314.164432  \n",
       "min                      16.000000  \n",
       "25%                     169.750000  \n",
       "50%                     321.000000  \n",
       "75%                     573.500000  \n",
       "max                    1573.000000  "
      ]
     },
     "execution_count": 11,
     "metadata": {},
     "output_type": "execute_result"
    }
   ],
   "source": [
    "features = ['Mid-Century Highrise Households', 'Percent Mid-Century Highrise Households', 'Social Housing Units', 'Social Housing Waiting List']\n",
    "X = toronto_data[features]\n",
    "X.describe()"
   ]
  },
  {
   "cell_type": "code",
   "execution_count": 12,
   "metadata": {},
   "outputs": [
    {
     "data": {
      "text/plain": [
       "DecisionTreeRegressor(criterion='mse', max_depth=None, max_features=None,\n",
       "                      max_leaf_nodes=None, min_impurity_decrease=0.0,\n",
       "                      min_impurity_split=None, min_samples_leaf=1,\n",
       "                      min_samples_split=2, min_weight_fraction_leaf=0.0,\n",
       "                      presort=False, random_state=1, splitter='best')"
      ]
     },
     "execution_count": 12,
     "metadata": {},
     "output_type": "execute_result"
    }
   ],
   "source": [
    "from sklearn.tree import DecisionTreeRegressor\n",
    "toronto_model = DecisionTreeRegressor(random_state=1)\n",
    "toronto_model.fit(X,y)"
   ]
  },
  {
   "cell_type": "code",
   "execution_count": 13,
   "metadata": {},
   "outputs": [
    {
     "data": {
      "text/html": [
       "<div>\n",
       "<style scoped>\n",
       "    .dataframe tbody tr th:only-of-type {\n",
       "        vertical-align: middle;\n",
       "    }\n",
       "\n",
       "    .dataframe tbody tr th {\n",
       "        vertical-align: top;\n",
       "    }\n",
       "\n",
       "    .dataframe thead th {\n",
       "        text-align: right;\n",
       "    }\n",
       "</style>\n",
       "<table border=\"1\" class=\"dataframe\">\n",
       "  <thead>\n",
       "    <tr style=\"text-align: right;\">\n",
       "      <th></th>\n",
       "      <th>Mid-Century Highrise Households</th>\n",
       "      <th>Percent Mid-Century Highrise Households</th>\n",
       "      <th>Social Housing Units</th>\n",
       "      <th>Social Housing Waiting List</th>\n",
       "    </tr>\n",
       "  </thead>\n",
       "  <tbody>\n",
       "    <tr>\n",
       "      <td>0</td>\n",
       "      <td>690</td>\n",
       "      <td>6.8</td>\n",
       "      <td>952</td>\n",
       "      <td>557</td>\n",
       "    </tr>\n",
       "    <tr>\n",
       "      <td>1</td>\n",
       "      <td>4110</td>\n",
       "      <td>42.9</td>\n",
       "      <td>1146</td>\n",
       "      <td>1049</td>\n",
       "    </tr>\n",
       "    <tr>\n",
       "      <td>2</td>\n",
       "      <td>430</td>\n",
       "      <td>13.4</td>\n",
       "      <td>447</td>\n",
       "      <td>270</td>\n",
       "    </tr>\n",
       "    <tr>\n",
       "      <td>3</td>\n",
       "      <td>600</td>\n",
       "      <td>15.2</td>\n",
       "      <td>432</td>\n",
       "      <td>186</td>\n",
       "    </tr>\n",
       "    <tr>\n",
       "      <td>4</td>\n",
       "      <td>870</td>\n",
       "      <td>27.3</td>\n",
       "      <td>463</td>\n",
       "      <td>239</td>\n",
       "    </tr>\n",
       "  </tbody>\n",
       "</table>\n",
       "</div>"
      ],
      "text/plain": [
       "   Mid-Century Highrise Households  Percent Mid-Century Highrise Households  \\\n",
       "0                              690                                      6.8   \n",
       "1                             4110                                     42.9   \n",
       "2                              430                                     13.4   \n",
       "3                              600                                     15.2   \n",
       "4                              870                                     27.3   \n",
       "\n",
       "   Social Housing Units  Social Housing Waiting List  \n",
       "0                   952                          557  \n",
       "1                  1146                         1049  \n",
       "2                   447                          270  \n",
       "3                   432                          186  \n",
       "4                   463                          239  "
      ]
     },
     "execution_count": 13,
     "metadata": {},
     "output_type": "execute_result"
    }
   ],
   "source": [
    "X.head()"
   ]
  },
  {
   "cell_type": "code",
   "execution_count": 14,
   "metadata": {},
   "outputs": [
    {
     "data": {
      "text/plain": [
       "array([317508., 251119., 414216., 392271., 233832.])"
      ]
     },
     "execution_count": 14,
     "metadata": {},
     "output_type": "execute_result"
    }
   ],
   "source": [
    "toronto_model.predict(X.head())"
   ]
  },
  {
   "cell_type": "markdown",
   "metadata": {},
   "source": [
    "## Model Validation"
   ]
  },
  {
   "cell_type": "code",
   "execution_count": 15,
   "metadata": {},
   "outputs": [
    {
     "name": "stdout",
     "output_type": "stream",
     "text": [
      "183605.6\n"
     ]
    }
   ],
   "source": [
    "from sklearn.metrics import mean_absolute_error\n",
    "from sklearn.model_selection import train_test_split\n",
    "\n",
    "train_X, val_X, train_y, val_y = train_test_split(X, y, random_state=0)\n",
    "toronto_model = DecisionTreeRegressor()\n",
    "toronto_model.fit(train_X,train_y)\n",
    "\n",
    "val_predictions = toronto_model.predict(val_X)\n",
    "print(mean_absolute_error(val_y, val_predictions))"
   ]
  },
  {
   "cell_type": "code",
   "execution_count": 16,
   "metadata": {},
   "outputs": [],
   "source": [
    "def get_mae(max_leaf_nodes, train_X, val_X, train_y, val_y):\n",
    "    model = DecisionTreeRegressor(max_leaf_nodes=max_leaf_nodes,random_state=0)\n",
    "    model.fit(train_X, train_y)\n",
    "    preds_val = model.predict(val_X)\n",
    "    mae = mean_absolute_error(val_y, preds_val)\n",
    "    return(mae)"
   ]
  },
  {
   "cell_type": "code",
   "execution_count": 17,
   "metadata": {},
   "outputs": [
    {
     "name": "stdout",
     "output_type": "stream",
     "text": [
      "Max leaf nodes: 2 \t\t Mean Absolute Error: 136836\n",
      "Max leaf nodes: 20 \t\t Mean Absolute Error: 176412\n",
      "Max leaf nodes: 500 \t\t Mean Absolute Error: 192473\n",
      "Max leaf nodes: 5000 \t\t Mean Absolute Error: 192473\n"
     ]
    }
   ],
   "source": [
    "for max_leaf_nodes in [2, 20, 500, 5000]:\n",
    "    my_mae = get_mae(max_leaf_nodes, train_X, val_X, train_y, val_y)\n",
    "    print(\"Max leaf nodes: %d \\t\\t Mean Absolute Error: %d\" %(max_leaf_nodes, my_mae))"
   ]
  },
  {
   "cell_type": "markdown",
   "metadata": {},
   "source": [
    "# Random Forests\n",
    "\n",
    "Another type of model is the **random forest** model, that uses many trees and makes a prediction by averaging the predictions of each component tree. It generally results in a much better predictive accuracy than a single decision tree."
   ]
  },
  {
   "cell_type": "code",
   "execution_count": 20,
   "metadata": {},
   "outputs": [
    {
     "name": "stdout",
     "output_type": "stream",
     "text": [
      "163377.90000000002\n"
     ]
    },
    {
     "name": "stderr",
     "output_type": "stream",
     "text": [
      "/Users/ryanheadley/opt/anaconda3/lib/python3.7/site-packages/sklearn/ensemble/forest.py:245: FutureWarning: The default value of n_estimators will change from 10 in version 0.20 to 100 in 0.22.\n",
      "  \"10 in version 0.20 to 100 in 0.22.\", FutureWarning)\n"
     ]
    }
   ],
   "source": [
    "from sklearn.ensemble import RandomForestRegressor\n",
    "from sklearn.metrics import mean_absolute_error\n",
    "\n",
    "forest_model = RandomForestRegressor(random_state=1)\n",
    "forest_model.fit(train_X, train_y)\n",
    "toronto_preds = forest_model.predict(val_X)\n",
    "print(mean_absolute_error(val_y, toronto_preds))"
   ]
  },
  {
   "cell_type": "code",
   "execution_count": null,
   "metadata": {},
   "outputs": [],
   "source": []
  }
 ],
 "metadata": {
  "kernelspec": {
   "display_name": "Python 3",
   "language": "python",
   "name": "python3"
  },
  "language_info": {
   "codemirror_mode": {
    "name": "ipython",
    "version": 3
   },
   "file_extension": ".py",
   "mimetype": "text/x-python",
   "name": "python",
   "nbconvert_exporter": "python",
   "pygments_lexer": "ipython3",
   "version": "3.7.4"
  }
 },
 "nbformat": 4,
 "nbformat_minor": 2
}
