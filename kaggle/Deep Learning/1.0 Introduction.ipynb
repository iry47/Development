{
 "cells": [
  {
   "cell_type": "markdown",
   "metadata": {},
   "source": [
    "# Machine vs Deep Learning\n",
    "\n",
    "What is the difference? \n",
    "\n",
    "**Machine learning** is an algorithm that teaches a machine to think. More specifically, it is an algorith that can take in data, learn from that data and apply what they've learning to make informed decisions. \n",
    "\n",
    "**Deep learning** is machine learning. In other words deep learning is a subset of machine learning that mimics the way a human brain draws conclusions by inspiring from our neural network to create an artificial neural network. \n",
    "\n",
    "This section on deep learning uses *TensorFlow*, the most popular tool for deep learning and *Karis*, an API for specifying deep learning models. \n",
    "\n",
    "### Definition\n",
    "\n",
    "__Tensor__: A matrix that can have a combination of any number of columns and rows."
   ]
  },
  {
   "cell_type": "code",
   "execution_count": null,
   "metadata": {},
   "outputs": [],
   "source": []
  }
 ],
 "metadata": {
  "kernelspec": {
   "display_name": "Python 3",
   "language": "python",
   "name": "python3"
  },
  "language_info": {
   "codemirror_mode": {
    "name": "ipython",
    "version": 3
   },
   "file_extension": ".py",
   "mimetype": "text/x-python",
   "name": "python",
   "nbconvert_exporter": "python",
   "pygments_lexer": "ipython3",
   "version": "3.7.4"
  }
 },
 "nbformat": 4,
 "nbformat_minor": 2
}
