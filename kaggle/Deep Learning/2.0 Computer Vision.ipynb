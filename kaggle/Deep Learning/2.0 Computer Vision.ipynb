{
 "cells": [
  {
   "cell_type": "markdown",
   "metadata": {},
   "source": [
    "# Convolutions\n",
    "\n",
    "A convolution is a small matrix that is multiplied to our data to determine information. An example, is a 4x4 matrix that can be used to determine whether there is a horizontal line present in the image.\n",
    "\n",
    "<table>\n",
    "    <tr>\n",
    "        <td>1</td>\n",
    "        <td>1</td>\n",
    "    </tr>\n",
    "    <tr>\n",
    "        <td>-1</td>\n",
    "        <td>-1</td>\n",
    "    </tr>\n",
    "</table>\n",
    "\n",
    "Since an image is stored as a tensor of pixel values, we can imagine the following to tables are extracted from an image.\n",
    "\n",
    "<table style=\"width:45%;float:left;\">\n",
    "    <tr style=\"background-color:black;color:white;\">\n",
    "        <td>200</td>\n",
    "        <td>200</td>\n",
    "    </tr>\n",
    "    <tr style=\"background-color:black;color:white;\">\n",
    "        <td>200</td>\n",
    "        <td>200</td>\n",
    "    </tr>\n",
    "</table>\n",
    "<p style=\"width:10%;float:left;\"></p>\n",
    "<table style=\"width:45%;float:left;\">\n",
    "    <tr style=\"background-color:black;color:white;\">\n",
    "        <td>200</td>\n",
    "        <td>200</td>\n",
    "    </tr>\n",
    "    <tr style=\"background-color:white\">\n",
    "        <td>0</td>\n",
    "        <td>0</td>\n",
    "    </tr>\n",
    "</table>\n",
    "\n",
    "Multiplying our convolution with these matrices and adding the result will produce a small number for black matrix and a large number for the black and white matrix.\n",
    "\n",
    "    1*200+1*200-1*200-1*200 = 0\n",
    "    1*200+1*200-1*0-1*- = 400\n",
    "\n",
    "The idea is that a large number indicated a horizontal line and the smaller the number the least likely a horizontal line is present\n",
    "\n",
    "### Convolutions in DL\n",
    "\n",
    "While you can choose the values for your convolutions, normally a deep learning model has the values inputed and adjusted as it is being run.\n",
    "\n",
    "### Definitions\n",
    "\n",
    "__Layer of convolutions__: A set of convolutions that is applied at the same time.\n"
   ]
  },
  {
   "cell_type": "code",
   "execution_count": null,
   "metadata": {},
   "outputs": [],
   "source": []
  }
 ],
 "metadata": {
  "kernelspec": {
   "display_name": "Python 3",
   "language": "python",
   "name": "python3"
  },
  "language_info": {
   "codemirror_mode": {
    "name": "ipython",
    "version": 3
   },
   "file_extension": ".py",
   "mimetype": "text/x-python",
   "name": "python",
   "nbconvert_exporter": "python",
   "pygments_lexer": "ipython3",
   "version": "3.7.4"
  }
 },
 "nbformat": 4,
 "nbformat_minor": 2
}
