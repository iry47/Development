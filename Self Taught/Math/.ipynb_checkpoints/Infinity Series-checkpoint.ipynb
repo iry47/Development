{
 "cells": [
  {
   "cell_type": "code",
   "execution_count": 12,
   "metadata": {},
   "outputs": [],
   "source": [
    "from IPython.display import Image\n",
    "from IPython.core.display import HTML "
   ]
  },
  {
   "cell_type": "markdown",
   "metadata": {},
   "source": [
    "# What is infinity?\n",
    "\n",
    "It is common to understand that infinity is unlimitted. But is it a number? What happens when you operate (add, subtract, etc) to infinity? Are there different sizes of infinity? \n",
    "\n",
    "Infinity is not a number, and when you adding 5 or subtracting 5 billion doesn't change anything in the eyes of infinity. The rest of this page is devoted to examples to explore different manifestations of infinity."
   ]
  },
  {
   "cell_type": "markdown",
   "metadata": {},
   "source": [
    "# Shifting With Infinity\n",
    "\n",
    "### The Grand Hotel\n",
    "This hotel as a countably infinite number of rooms. Currently, this hotel has a guest in each room so there are no empty rooms available for incoming guests.\n",
    "\n",
    "However, the when a new guest appears and the reception asking for a room, the receptionist has the smart idea of sending out a message to every room in the hotel telling the occupants to move to the next room. If you're in room 1, you move to room 2; room 2 moves to room 3 and so on. \n",
    "This means that room 1 is now open and the hotel can accept the new guest."
   ]
  },
  {
   "cell_type": "code",
   "execution_count": 13,
   "metadata": {},
   "outputs": [
    {
     "data": {
      "text/html": [
       "<img src=\"https://intuitivescienceblog.files.wordpress.com/2017/03/screen-shot-2016-10-19-at-11-44-47-pm.png?w=648\"/>"
      ],
      "text/plain": [
       "<IPython.core.display.Image object>"
      ]
     },
     "execution_count": 13,
     "metadata": {},
     "output_type": "execute_result"
    }
   ],
   "source": [
    "Image(url='https://intuitivescienceblog.files.wordpress.com/2017/03/screen-shot-2016-10-19-at-11-44-47-pm.png?w=648')"
   ]
  },
  {
   "cell_type": "markdown",
   "metadata": {},
   "source": [
    "Later, the guest in room 1 leaves and the room is empty. The hotel however prefers having every room full so they send out a message telling every room to move to the room number below theirs and thus the hotel returns to fully occupied.\n",
    "\n",
    "With the infinite series, holes can be created and filled with and without adding elements to the set, irrespective of the size oh the groups."
   ]
  },
  {
   "cell_type": "code",
   "execution_count": 15,
   "metadata": {},
   "outputs": [
    {
     "data": {
      "text/html": [
       "<img src=\"https://intuitivescienceblog.files.wordpress.com/2017/03/screen-shot-2016-10-19-at-11-45-02-pm.png\"/>"
      ],
      "text/plain": [
       "<IPython.core.display.Image object>"
      ]
     },
     "execution_count": 15,
     "metadata": {},
     "output_type": "execute_result"
    }
   ],
   "source": [
    "Image(url='https://intuitivescienceblog.files.wordpress.com/2017/03/screen-shot-2016-10-19-at-11-45-02-pm.png')"
   ]
  },
  {
   "cell_type": "markdown",
   "metadata": {},
   "source": [
    "# Circles\n",
    "The circumference, or the length of the outside of a circle is calculated by multiplying the diameter by the number pi\n",
    "\n",
    "Pi is an infinite number. This means that if you calculate the circumference, not only with you never arrive at an exact integer but you always arrive at an infinite number. This means that if you take a circle of diameter 100 meters, and walk around the circumference taking exactly and only steps of 1 meter (or any countable number), you will **never** arrive at the exact same position no matter how many full loops you complete."
   ]
  },
  {
   "cell_type": "code",
   "execution_count": 6,
   "metadata": {},
   "outputs": [
    {
     "data": {
      "text/html": [
       "\n",
       "        <iframe\n",
       "            width=\"100%\"\n",
       "            height=\"111\"\n",
       "            src=\"https://www.mathsisfun.com/numbers/images/pi-circle-ex1.gif\"\n",
       "            frameborder=\"0\"\n",
       "            allowfullscreen\n",
       "        ></iframe>\n",
       "        "
      ],
      "text/plain": [
       "<IPython.lib.display.IFrame at 0x10772f910>"
      ]
     },
     "execution_count": 6,
     "metadata": {},
     "output_type": "execute_result"
    }
   ],
   "source": [
    "Image(url='https://www.mathsisfun.com/numbers/images/pi-circle-ex1.gif')"
   ]
  },
  {
   "cell_type": "markdown",
   "metadata": {},
   "source": [
    "# Comparing Infinities\n",
    "While there is a difference in size between countable and uncountable infinities, here we are going to show ways in which inifities are equal (while comparing infinities of the same type: countable with countable and uncountable with uncountable)\n",
    "\n",
    "Keeping the grand hotel in mind, we can understand that there are the same quantity of even numbers as there are odd **and** even numbers. \n",
    "\n",
    "Maybe even more suprising, is that there are the same number of points between 0 and 1 as there are on the infinite continuum. The photo below helps to illustrate this."
   ]
  },
  {
   "cell_type": "code",
   "execution_count": 16,
   "metadata": {},
   "outputs": [
    {
     "data": {
      "text/html": [
       "<img src=\"https://www.ryanheadley.net/assets/images/zeroToOne.png\"/>"
      ],
      "text/plain": [
       "<IPython.core.display.Image object>"
      ]
     },
     "execution_count": 16,
     "metadata": {},
     "output_type": "execute_result"
    }
   ],
   "source": [
    "Image(url='https://www.ryanheadley.net/assets/images/zeroToOne.png')"
   ]
  },
  {
   "cell_type": "markdown",
   "metadata": {},
   "source": [
    "# Banach-Tarski Paradox\n",
    "\n",
    "Understanding infinities and playing with other math theorems, these two mathematicians found that:\n",
    "\n",
    "    A solid ball may be separated into a finite number of pieces and reassembled in such a way as to create two solid balls, each identical in shape and volume.\n",
    "    \n",
    "\n",
    "This mathematical proof states that you can not only take a sphere and break it into as little as 5 pieces which then get put back together to obtain 2 spheres instead of one, but that you can also break of a sphere the size of a pea and instead of duplicate it you can magnify it to the size you desire; for example the size of the sun.\n",
    "\n",
    "For more information about this proof, I encourage you to watch the following video:"
   ]
  },
  {
   "cell_type": "markdown",
   "metadata": {},
   "source": [
    "https://www.youtube.com/watch?v=s86-Z-CbaHA"
   ]
  },
  {
   "cell_type": "code",
   "execution_count": null,
   "metadata": {},
   "outputs": [],
   "source": []
  }
 ],
 "metadata": {
  "kernelspec": {
   "display_name": "Python 3",
   "language": "python",
   "name": "python3"
  },
  "language_info": {
   "codemirror_mode": {
    "name": "ipython",
    "version": 3
   },
   "file_extension": ".py",
   "mimetype": "text/x-python",
   "name": "python",
   "nbconvert_exporter": "python",
   "pygments_lexer": "ipython3",
   "version": "3.7.4"
  }
 },
 "nbformat": 4,
 "nbformat_minor": 2
}
