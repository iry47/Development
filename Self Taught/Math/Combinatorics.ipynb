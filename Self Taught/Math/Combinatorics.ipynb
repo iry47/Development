{
 "cells": [
  {
   "cell_type": "code",
   "execution_count": 1,
   "metadata": {},
   "outputs": [],
   "source": [
    "from IPython.display import Latex"
   ]
  },
  {
   "cell_type": "markdown",
   "metadata": {},
   "source": [
    "Combinatorics is a branch of mathematics which is about counting, and often branched into **Factorials, Combinations, Permutations**"
   ]
  },
  {
   "cell_type": "markdown",
   "metadata": {},
   "source": [
    "## Factorials\n",
    "\n",
    "The number of *orders* in which something can happen,\n",
    "\n",
    "*In a classroom there are 3 pupils and 3 chairs standing in a row. In how many different orders can the pupils sit on these chairs?*\n",
    "\n",
    "    1st chair: 3 possible pupils\n",
    "    2nd chair: 2 possible pupils\n",
    "    3rd chair: 1 possible pupil\n",
    "    \n",
    "    3! = 3 x 2 x 1 = 6\n",
    "    \n",
    "*Factorials in math are denoted with a !*\n",
    "\n",
    "Therefore there are 6 possible orders of the pupils in the chairs.\n"
   ]
  },
  {
   "cell_type": "markdown",
   "metadata": {},
   "source": [
    "## Permutations\n",
    "\n",
    "Permutations find the number of possible ordered combinations.\n",
    "\n",
    "*Following the example above, how would we solve the orders if there are only 2 chairs but still 3 pupils?*\n",
    "\n",
    "The key is to stop counting the posibilities as soon as the each bin has an object (aka each chair as a pupil)\n",
    "\n",
    "    3! / 1! = 3x2x1 / 1 = 6\n",
    "    \n",
    "The formula for permutations is as follows:"
   ]
  },
  {
   "cell_type": "code",
   "execution_count": 11,
   "metadata": {},
   "outputs": [
    {
     "data": {
      "text/latex": [
       "\n",
       "    $$nPm = \\frac{n!}{(n-m)!}$$\n"
      ],
      "text/plain": [
       "<IPython.core.display.Latex object>"
      ]
     },
     "metadata": {},
     "output_type": "display_data"
    }
   ],
   "source": [
    "%%latex\n",
    "\n",
    "    $$nPm = \\frac{n!}{(n-m)!}$$"
   ]
  },
  {
   "cell_type": "markdown",
   "metadata": {},
   "source": [
    "*where **n** is the number of objects and **m** is the number of positions.*\n",
    "\n",
    "When *m* is the equal to *n*, we get *0!* which is defined as *1* and we arrive at factorials.\n",
    "\n",
    "It is also interesting to look how the result changes when increasing the numbers:\n",
    "\n",
    "4 students with 4 chairs:\n",
    "\n",
    "    4! = 4x3x2x1 = 24\n",
    "    \n",
    "4 students with 3 chairs:\n",
    "\n",
    "    4!/1! = 4x3x2x1 / 1 = 24\n",
    "    \n",
    "4 students with 2 chairs:\n",
    "\n",
    "    4!/2! = 12"
   ]
  },
  {
   "cell_type": "markdown",
   "metadata": {},
   "source": [
    "## Combinations\n",
    "\n",
    "Permutations are used when you select objects and care about their order – like the order of children on chairs. However in some problems you don’t care about the order and just want to know how many ways there are to select a certain number of objects from a bigger set\n",
    "\n",
    "The equation for combinations is as follows:"
   ]
  },
  {
   "cell_type": "code",
   "execution_count": 14,
   "metadata": {},
   "outputs": [
    {
     "data": {
      "text/latex": [
       "$$nCr = \\frac{n!}{r!(n-r!)} = \\begin{pmatrix} n \\\\ r \\end{pmatrix}$$\n"
      ],
      "text/plain": [
       "<IPython.core.display.Latex object>"
      ]
     },
     "metadata": {},
     "output_type": "display_data"
    }
   ],
   "source": [
    "%%latex\n",
    "$$nCr = \\frac{n!}{r!(n-r!)} = \\begin{pmatrix} n \\\\ r \\end{pmatrix}$$"
   ]
  },
  {
   "cell_type": "markdown",
   "metadata": {},
   "source": [
    "*where **r** is the chosen number from a total of **n** objects*"
   ]
  }
 ],
 "metadata": {
  "kernelspec": {
   "display_name": "Python 3",
   "language": "python",
   "name": "python3"
  },
  "language_info": {
   "codemirror_mode": {
    "name": "ipython",
    "version": 3
   },
   "file_extension": ".py",
   "mimetype": "text/x-python",
   "name": "python",
   "nbconvert_exporter": "python",
   "pygments_lexer": "ipython3",
   "version": "3.7.4"
  }
 },
 "nbformat": 4,
 "nbformat_minor": 2
}
