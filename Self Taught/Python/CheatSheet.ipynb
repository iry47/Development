{
 "cells": [
  {
   "cell_type": "markdown",
   "metadata": {},
   "source": [
    "# Introduction\n",
    "\n",
    "This file is a cumulation of python functions that I have been learning and using, primarily related to machine learning and artificial intelligence. \n",
    "\n",
    "The file is indexed below into its subsections and each function has a definition, example and link for further information."
   ]
  },
  {
   "cell_type": "markdown",
   "metadata": {},
   "source": [
    "<h4><a href=\"#pandas\">1.0 Pandas (Data Tables)</a></h4>\n",
    "<a href=\"#drop\">agg()</a><br>\n",
    "<a href=\"#drop\">drop()</a><br>\n",
    "<a href=\"#groupby\">groupby()</a><br>\n",
    "<a href=\"#loc\">loc()</a><br>\n",
    "<a href=\"#nunique\">nunique()</a><br>\n",
    "<a href=\"#readcsv\">read_csv()</a><br>\n",
    "<a href=\"#tocsv\">to_csv()</a>\n",
    "<h4><a href=\"#sklearn\">2.0 SKLearn</a></h4>\n",
    "<a href=\"#labelencoder\">LabelEncoder()</a><br>\n",
    "<a href=\"#onehotencoder\">OneHotEncoder()</a><br>\n",
    "<a href=\"#pipeline\">Pipeline()</a><br>\n",
    "<a href=\"#simpleimputer\">SimpleImputer()</a><br>\n",
    "<a href=\"#traintestsplit\">train_test_split()</a><br>\n",
    "<h4><a href=\"#general\">3.0 General</a></h4>\n",
    "<a href=\"#intersection\">intersection()</a><br>\n",
    "<a href=\"#issubset\">issubset()</a><br>\n",
    "<a href=\"#set\">set()</a><br>\n",
    "<a href=\"#zip\">zip()</a><br>\n"
   ]
  },
  {
   "cell_type": "markdown",
   "metadata": {},
   "source": [
    "##### Notes:\n",
    "- pandas is a library used to analyze data and can be directly imported into any file using `import pandas as pd` *pd is optional and simply a shortform* "
   ]
  },
  {
   "cell_type": "markdown",
   "metadata": {},
   "source": [
    "<h2 id=\"pandas\">Pandas (Data Tables)"
   ]
  },
  {
   "cell_type": "code",
   "execution_count": 3,
   "metadata": {},
   "outputs": [],
   "source": [
    "import pandas as pd"
   ]
  },
  {
   "cell_type": "markdown",
   "metadata": {},
   "source": [
    "### <p id=\"agg\">`agg()`</p>\n",
    "**Definition**: aggregate using one or more operations over the specified axis. Can be used on DataFrames, Series\n",
    "Common parameters:\n",
    "\n",
    "    args: positional arguments to pass to func\n",
    "    axis: {0 or 'index', 1 or 'columns'}, default 0\n",
    "\n",
    "<a href=\"https://pandas.pydata.org/pandas-docs/stable/reference/api/pandas.DataFrame.agg.html?highlight=agg#pandas.DataFrame.agg\">Documentation</a>"
   ]
  },
  {
   "cell_type": "code",
   "execution_count": 4,
   "metadata": {},
   "outputs": [
    {
     "data": {
      "text/plain": [
       "0    2.0\n",
       "1    5.0\n",
       "2    8.0\n",
       "3    NaN\n",
       "dtype: float64"
      ]
     },
     "execution_count": 4,
     "metadata": {},
     "output_type": "execute_result"
    }
   ],
   "source": [
    "import pandas as pd\n",
    "import numpy as np\n",
    "df = pd.DataFrame([[1, 2, 3],\n",
    "                   [4, 5, 6],\n",
    "                   [7, 8, 9],\n",
    "                   [np.nan, np.nan, np.nan]],\n",
    "                  columns=['A', 'B', 'C'])\n",
    "df.agg(['sum','min'])\n",
    "df.agg(\"mean\", axis=\"columns\")"
   ]
  },
  {
   "cell_type": "markdown",
   "metadata": {},
   "source": [
    "### <p id=\"drop\">`drop()`</p>\n",
    "**Definition**: remove selected column(s) from table\n",
    "Common options:\n",
    "\n",
    "    axis: {0 or 'index', 1 or 'columns'}, default 0\n",
    "\n",
    "<a href=\"https://pandas.pydata.org/pandas-docs/stable/reference/api/pandas.DataFrame.drop.html?highlight=drop\">Documentation</a>"
   ]
  },
  {
   "cell_type": "code",
   "execution_count": 5,
   "metadata": {},
   "outputs": [],
   "source": [
    "#data.drop(['Col1'])"
   ]
  },
  {
   "cell_type": "markdown",
   "metadata": {},
   "source": [
    "### <p id=\"groupby\">`groupby()`</p>\n",
    "**Definition**: group by using a mapper or by a Series of columns\n",
    "Common options:\n",
    "\n",
    "    axis: {0 or 'index', 1 or 'columns'}, default 0\n",
    "    level: int, level name, or sequence of such, default None\n",
    "\n",
    "<a href=\"https://pandas.pydata.org/pandas-docs/stable/reference/api/pandas.DataFrame.groupby.html#pandas-dataframe-groupby\">Documentation</a>"
   ]
  },
  {
   "cell_type": "code",
   "execution_count": 6,
   "metadata": {},
   "outputs": [],
   "source": [
    "import pandas as pd\n",
    "arrays = [['Falcon', 'Falcon', 'Parrot', 'Parrot'],\n",
    "          ['Captive', 'Wild', 'Captive', 'Wild']]\n",
    "index = pd.MultiIndex.from_arrays(arrays, names=('Animal', 'Type'))\n",
    "df = pd.DataFrame({'Max Speed': [390., 350., 30., 20.]},\n",
    "                  index=index)\n",
    "\n",
    "#df.groupby(level=0).mean()"
   ]
  },
  {
   "cell_type": "markdown",
   "metadata": {},
   "source": [
    "### <p id=\"loc\">`loc()`</p>\n",
    "\n",
    "**Definition:** access a group of rows and columns by label(s) or a boolean array.\n",
    "    \n",
    "<a href=\"https://pandas.pydata.org/pandas-docs/stable/reference/api/pandas.DataFrame.loc.html\">Documentation</a>"
   ]
  },
  {
   "cell_type": "code",
   "execution_count": 7,
   "metadata": {},
   "outputs": [
    {
     "data": {
      "text/html": [
       "<div>\n",
       "<style scoped>\n",
       "    .dataframe tbody tr th:only-of-type {\n",
       "        vertical-align: middle;\n",
       "    }\n",
       "\n",
       "    .dataframe tbody tr th {\n",
       "        vertical-align: top;\n",
       "    }\n",
       "\n",
       "    .dataframe thead th {\n",
       "        text-align: right;\n",
       "    }\n",
       "</style>\n",
       "<table border=\"1\" class=\"dataframe\">\n",
       "  <thead>\n",
       "    <tr style=\"text-align: right;\">\n",
       "      <th></th>\n",
       "      <th>max_speed</th>\n",
       "      <th>shield</th>\n",
       "    </tr>\n",
       "  </thead>\n",
       "  <tbody>\n",
       "    <tr>\n",
       "      <td>viper</td>\n",
       "      <td>4</td>\n",
       "      <td>5</td>\n",
       "    </tr>\n",
       "    <tr>\n",
       "      <td>sidewinder</td>\n",
       "      <td>7</td>\n",
       "      <td>8</td>\n",
       "    </tr>\n",
       "  </tbody>\n",
       "</table>\n",
       "</div>"
      ],
      "text/plain": [
       "            max_speed  shield\n",
       "viper               4       5\n",
       "sidewinder          7       8"
      ]
     },
     "execution_count": 7,
     "metadata": {},
     "output_type": "execute_result"
    }
   ],
   "source": [
    "import pandas as pd\n",
    "\n",
    "df = pd.DataFrame([[1, 2], [4, 5], [7, 8]],\n",
    "     index=['cobra', 'viper', 'sidewinder'],\n",
    "     columns=['max_speed', 'shield'])\n",
    "df.loc[['viper', 'sidewinder']]\n",
    "#df.loc[:,'shield']"
   ]
  },
  {
   "cell_type": "markdown",
   "metadata": {},
   "source": [
    "### <p id=\"nunique\">`nunique()`</p>\n",
    "\n",
    "**Definition:** return number of unique elements in object\n",
    "Common options:\n",
    "\n",
    "    axis: {0 or 'index', 1 or 'columns'}, default 0\n",
    "    \n",
    "<a href=\"https://pandas.pydata.org/pandas-docs/stable/reference/api/pandas.DataFrame.nunique.html#pandas.DataFrame.nunique\">Documentation</a>"
   ]
  },
  {
   "cell_type": "markdown",
   "metadata": {},
   "source": [
    "### <p id=\"read_csv\">`read_csv()`</p>\n",
    "\n",
    "Def: takes a filepath and reads the information into a DataFrame. Common options:\n",
    "\n",
    "    sep: str,default\",\"\n",
    "\n",
    "For more information and available options: <a href=\"https://pandas.pydata.org/pandas-docs/stable/reference/api/pandas.read_csv.html\">Documentation</a>"
   ]
  },
  {
   "cell_type": "code",
   "execution_count": 8,
   "metadata": {},
   "outputs": [],
   "source": [
    "import csv\n",
    "with open('example.csv','w') as file:\n",
    "    filewriter = csv.writer(file)\n",
    "    filewriter.writerow(['Col1','Col2'])\n",
    "    filewriter.writerow(['First','Second'])\n",
    "\n",
    "data = pd.read_csv('./example.csv')\n",
    "#data.head()"
   ]
  },
  {
   "cell_type": "markdown",
   "metadata": {},
   "source": [
    "### <p id=\"to_csv\">`to_csv()`</p>\n",
    "\n",
    "Def: writes a DataFrame to a new csv file\n",
    "Common options:\n",
    "\n",
    "    index: bool,default=True\n",
    "\n",
    "For more information and available options: <a href=\"https://pandas.pydata.org/pandas-docs/stable/reference/api/pandas.DataFrame.to_csv.html#pandas-dataframe-to-csv\">Documentation</a>"
   ]
  },
  {
   "cell_type": "code",
   "execution_count": 9,
   "metadata": {},
   "outputs": [],
   "source": [
    "import pandas as pd\n",
    "animals = pd.DataFrame({'Cows': [12, 20], 'Goats': [22, 19]}, index=['Year 1', 'Year 2'])\n",
    "#animals.to_csv('cows_and_goats.csv')"
   ]
  },
  {
   "cell_type": "code",
   "execution_count": 10,
   "metadata": {},
   "outputs": [],
   "source": [
    "#data.nunique()"
   ]
  },
  {
   "cell_type": "markdown",
   "metadata": {},
   "source": [
    "<h2 id=\"sklearn\">SKLearn"
   ]
  },
  {
   "cell_type": "markdown",
   "metadata": {},
   "source": [
    "### <p id=\"labelencoder\">`LabelEncoder()`</p>\n",
    "\n",
    "**Definition:** Encode target labels with value between 0 and n_classes-1. It can be used to transform non-numerical labels (as long as they are hashable and comparable) to numerical values\n",
    "        \n",
    "<a href=\"https://scikit-learn.org/stable/modules/generated/sklearn.preprocessing.LabelEncoder.html\">Documentation</a>"
   ]
  },
  {
   "cell_type": "code",
   "execution_count": 11,
   "metadata": {},
   "outputs": [
    {
     "data": {
      "text/plain": [
       "array([1, 1, 2, 6])"
      ]
     },
     "execution_count": 11,
     "metadata": {},
     "output_type": "execute_result"
    }
   ],
   "source": [
    "from sklearn import preprocessing\n",
    "\n",
    "le = preprocessing.LabelEncoder()\n",
    "le.fit([1, 2, 2, 6])\n",
    "le.classes_\n",
    "le.transform([1, 1, 2, 6])\n",
    "le.inverse_transform([0, 0, 1, 2])"
   ]
  },
  {
   "cell_type": "markdown",
   "metadata": {},
   "source": [
    "### <p id=\"onehoteencoder\">`OneHotEncoder()`</p>\n",
    "\n",
    "**Definition:** Encode categorical features as a one-hot numeric array\n",
    "Common Parameters:\n",
    "\n",
    "    handle_unknown: {'error', 'ignore'}, default='error'\n",
    "        \n",
    "<a href=\"https://scikit-learn.org/stable/modules/generated/sklearn.preprocessing.OneHotEncoder.html\">Documentation</a>"
   ]
  },
  {
   "cell_type": "code",
   "execution_count": 12,
   "metadata": {},
   "outputs": [
    {
     "data": {
      "text/plain": [
       "array(['gender_Female', 'gender_Male', 'group_1', 'group_2', 'group_3'],\n",
       "      dtype=object)"
      ]
     },
     "execution_count": 12,
     "metadata": {},
     "output_type": "execute_result"
    }
   ],
   "source": [
    "from sklearn.preprocessing import OneHotEncoder\n",
    "\n",
    "enc = OneHotEncoder(handle_unknown='ignore')\n",
    "X = [['Male', 1], ['Female', 3], ['Female', 2]]\n",
    "enc.fit(X)\n",
    "enc.categories_\n",
    "enc.transform([['Female', 1], ['Male', 4]]).toarray()\n",
    "enc.inverse_transform([[0, 1, 1, 0, 0], [0, 0, 0, 1, 0]])\n",
    "enc.get_feature_names(['gender', 'group'])"
   ]
  },
  {
   "cell_type": "markdown",
   "metadata": {},
   "source": [
    "### <p id=\"pipeline\">`Pipeline()`</p>\n",
    "\n",
    "**Definition:** Apply a list of transforms and a final estimator\n",
    "Common Parameters:\n",
    "\n",
    "    steps: list\n",
    "    memory: str or object with the joblib.Memory interface, default='None'\n",
    "    \n",
    "Some Methods:\n",
    "\n",
    "    fit(self, X[, y]): fit the model\n",
    "    fit_predict(self, X[, y]: applies fit_predict of last step in pipeline after transforms\n",
    "    fit_transform(self, X[, y]: fit the model and transform with the final estimator\n",
    "    get_params: get parameters for this estimator\n",
    "    set_params: set parameters for this estimator\n",
    "    score(self, X[, y, sample_weight]): apply transforms and score with the final estimator\n",
    "    \n",
    "<a href=\"https://scikit-learn.org/stable/modules/generated/sklearn.pipeline.Pipeline.html\">Documentation</a>"
   ]
  },
  {
   "cell_type": "code",
   "execution_count": 13,
   "metadata": {},
   "outputs": [
    {
     "data": {
      "text/plain": [
       "0.88"
      ]
     },
     "execution_count": 13,
     "metadata": {},
     "output_type": "execute_result"
    }
   ],
   "source": [
    "from sklearn.svm import SVC\n",
    "from sklearn.preprocessing import StandardScaler\n",
    "from sklearn.datasets import make_classification\n",
    "from sklearn.model_selection import train_test_split\n",
    "from sklearn.pipeline import Pipeline\n",
    "X, y = make_classification(random_state=0)\n",
    "X_train, X_test, y_train, y_test = train_test_split(X, y,\n",
    "                                                    random_state=0)\n",
    "pipe = Pipeline([('scaler', StandardScaler()), ('svc', SVC())])\n",
    "# The pipeline can be used as any other estimator\n",
    "# and avoids leaking the test set into the train set\n",
    "pipe.fit(X_train, y_train)\n",
    "\n",
    "pipe.score(X_test, y_test)"
   ]
  },
  {
   "cell_type": "markdown",
   "metadata": {},
   "source": [
    "### <p id=\"simpleimputer\">`SimpleImputer()`</p>\n",
    "\n",
    "**Definition:** Imputation transformer for completing missing values   \n",
    "Common Parameters:\n",
    "\n",
    "    missing_values: number,string, np.nan(default) or None\n",
    "    strategy: string, default='mean'\n",
    "    \n",
    "Methods:\n",
    "\n",
    "    fit(self, X[, y]): fit the imputer on X\n",
    "    fit_transform(self, X[, y]: fir to data, then transform it\n",
    "    get_params: get parameters for this estimator\n",
    "    set_params: set parameters for this estimator\n",
    "    transform(self, X): impute all missing values in X\n",
    "    \n",
    "<a href=\"https://scikit-learn.org/stable/modules/generated/sklearn.impute.SimpleImputer.html\">Documentation</a>"
   ]
  },
  {
   "cell_type": "code",
   "execution_count": 14,
   "metadata": {},
   "outputs": [],
   "source": [
    "import numpy as np\n",
    "from sklearn.impute import SimpleImputer\n",
    "\n",
    "imp_mean = SimpleImputer(missing_values=np.nan, strategy='mean')\n",
    "imp_mean.fit([[7, 2, 3], [4, np.nan, 6], [10, 5, 9]])\n",
    "X = [[np.nan, 2, 3], [4, np.nan, 6], [10, np.nan, 9]]\n",
    "#print(imp_mean.transform(X))"
   ]
  },
  {
   "cell_type": "markdown",
   "metadata": {},
   "source": [
    "### <p id=\"traintestsplit\">`train_test_split()`</p>\n",
    "\n",
    "**Definition:** split arrays or matrices into random train and test subsets\n",
    "Required:\n",
    "    \n",
    "    arrays: sequence of indexables with same length/shape[0]\n",
    "    \n",
    "Common options:\n",
    "\n",
    "    random_state: int or RandomState instance, default=None\n",
    "    \n",
    "<a href=\"https://scikit-learn.org/stable/modules/generated/sklearn.model_selection.train_test_split.html\">Documentation</a>"
   ]
  },
  {
   "cell_type": "code",
   "execution_count": 15,
   "metadata": {},
   "outputs": [],
   "source": [
    "import numpy as np\n",
    "from sklearn.model_selection import train_test_split\n",
    "\n",
    "X, y = np.arange(10).reshape((5, 2)), range(5)\n",
    "X_train, X_test, y_train, y_test = train_test_split(X, y, test_size=0.33, random_state=42)\n",
    "#print(X)\n",
    "#print(y)\n",
    "#print(X_train)\n",
    "#print(y_train)\n",
    "#print(X_test)\n",
    "#print(y_test)"
   ]
  },
  {
   "cell_type": "markdown",
   "metadata": {},
   "source": []
  },
  {
   "cell_type": "markdown",
   "metadata": {},
   "source": [
    "### <p id=\"issubset\">`issubset()`</p>\n",
    "\n",
    "**Definition:** Returns True if all items in the set exists in the specified set, otherwise it retuns False."
   ]
  },
  {
   "cell_type": "code",
   "execution_count": 22,
   "metadata": {},
   "outputs": [
    {
     "name": "stdout",
     "output_type": "stream",
     "text": [
      "False\n"
     ]
    }
   ],
   "source": [
    "set1 = {2, 3, 4, 5, 6, 7, 8, 9}\n",
    "set2 = {4, 9, 16, 25, 36, 49, 64, 81}\n",
    "print(set1.issubset(set2))"
   ]
  },
  {
   "cell_type": "markdown",
   "metadata": {},
   "source": [
    "### <p id=\"intersection\">`intersection()`</p>\n",
    "\n",
    "**Definition:** Return a set that contains the items that exist in both set x, and set y."
   ]
  },
  {
   "cell_type": "code",
   "execution_count": 21,
   "metadata": {},
   "outputs": [
    {
     "name": "stdout",
     "output_type": "stream",
     "text": [
      "{9, 4}\n"
     ]
    }
   ],
   "source": [
    "set1 = {2, 3, 4, 5, 6, 7, 8, 9}\n",
    "set2 = {4, 9, 16, 25, 36, 49, 64, 81}\n",
    "print(set1.intersection(set2))"
   ]
  },
  {
   "cell_type": "markdown",
   "metadata": {},
   "source": [
    "### <p id=\"set\">`set()`</p>\n",
    "\n",
    "**Definition:** A set is a collection which is unordered and unindexed. In Python, sets are written with curly brackets."
   ]
  },
  {
   "cell_type": "code",
   "execution_count": 17,
   "metadata": {},
   "outputs": [
    {
     "name": "stdout",
     "output_type": "stream",
     "text": [
      "{(6, 36), (8, 64), (4, 16), (5, 25), (3, 9), (7, 49), (2, 4)}\n"
     ]
    }
   ],
   "source": [
    "list1 = [2, 3, 4, 5, 6, 7, 8]\n",
    "list2 = [4, 9, 16, 25, 36, 49, 64]\n",
    "ourTuple = zip(list1,list2)\n",
    "print(set(ourTuple))"
   ]
  },
  {
   "cell_type": "markdown",
   "metadata": {},
   "source": [
    "### <p id=\"zip\">`zip()`</p>\n",
    "\n",
    "**Definition:** returns a zip object, which is an iterator of tuples where the first item in each passed iterator is paired together, and then the second item in each passed iterator are paired together etc.\n",
    "\n",
    "If the passed iterators have different lengths, the iterator with the least items decides the length of the new iterator."
   ]
  },
  {
   "cell_type": "code",
   "execution_count": 18,
   "metadata": {},
   "outputs": [
    {
     "name": "stdout",
     "output_type": "stream",
     "text": [
      "((2, 4), (3, 9), (4, 16), (5, 25), (6, 36), (7, 49), (8, 64))\n"
     ]
    }
   ],
   "source": [
    "list1 = [2, 3, 4, 5, 6, 7, 8]\n",
    "list2 = [4, 9, 16, 25, 36, 49, 64]\n",
    "ourTuple = zip(list1,list2)\n",
    "print(tuple(ourTuple))"
   ]
  },
  {
   "cell_type": "code",
   "execution_count": null,
   "metadata": {},
   "outputs": [],
   "source": []
  }
 ],
 "metadata": {
  "kernelspec": {
   "display_name": "Python 3",
   "language": "python",
   "name": "python3"
  },
  "language_info": {
   "codemirror_mode": {
    "name": "ipython",
    "version": 3
   },
   "file_extension": ".py",
   "mimetype": "text/x-python",
   "name": "python",
   "nbconvert_exporter": "python",
   "pygments_lexer": "ipython3",
   "version": "3.7.4"
  }
 },
 "nbformat": 4,
 "nbformat_minor": 2
}
