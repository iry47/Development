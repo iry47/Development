{
 "cells": [
  {
   "cell_type": "markdown",
   "metadata": {},
   "source": [
    "# Text Formatting\n",
    "\n",
    "### Html Entities\n",
    "\n",
    "$a = \"I'll \\\"walk\\\" the <b>dog</b> now\";\n",
    "$b = html_entities($a);\n",
    "$c = html_entity_decode($a);\n",
    "\n",
    "echo $a; // I'll &quot;walk&quot; the &lt;b&gt;dog&lt;/b&gt; now\n",
    "echo $b; // I'll \"walk\" the <b>dog</b> now"
   ]
  }
 ],
 "metadata": {
  "kernelspec": {
   "display_name": "Python 3",
   "language": "python",
   "name": "python3"
  },
  "language_info": {
   "codemirror_mode": {
    "name": "ipython",
    "version": 3
   },
   "file_extension": ".py",
   "mimetype": "text/x-python",
   "name": "python",
   "nbconvert_exporter": "python",
   "pygments_lexer": "ipython3",
   "version": "3.7.0"
  }
 },
 "nbformat": 4,
 "nbformat_minor": 2
}
